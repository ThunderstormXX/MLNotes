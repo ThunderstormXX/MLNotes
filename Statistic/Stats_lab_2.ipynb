{
  "nbformat": 4,
  "nbformat_minor": 0,
  "metadata": {
    "colab": {
      "provenance": []
    },
    "kernelspec": {
      "name": "python3",
      "display_name": "Python 3"
    },
    "language_info": {
      "name": "python"
    }
  },
  "cells": [
    {
      "cell_type": "markdown",
      "source": [
        "LABS : 1.1 , 2.2, 3.1,4.1"
      ],
      "metadata": {
        "id": "122SMv-8hffz"
      }
    },
    {
      "cell_type": "markdown",
      "source": [
        "# Задача 1.1\n",
        "Задана выборка пар изображений: каждая пара состоит из оригинального (original_id.bmp) изображения и искаженного (modified_id_phrase.bmp). Также задана пара контрольных изображений original_test, modified_test.\n",
        "\n",
        "В 99% случаев искажение заключается в добавлении белого шума. В 1% случаев искажение заключается в добавлении к изображению скрытого сообщения. Алгоритм заключается в следующем:\n",
        "\n",
        "У исходной фразы берутся порядковые номера всех символов в порядке английского алфавита (abcz -> 0,1,2,25).\n",
        "Полученный вектор домножается на неизвестный коэффициент alpha и складывается с вектором картинки (image = image.flatten() + alpha*v + шум).\n",
        "Если фраза слишком короткая, искажение продолжается периодически.\n",
        "Требуется раскодировать фразу из контрольной пары.\n",
        "\n",
        "NB: предполагается, что вы найдете искаженные изображения без шума с применением статистических моделей, а не перебором.\n",
        "\n",
        "Ссылки\n",
        "https://imageio.readthedocs.io/en/stable/userapi.html\n",
        "https://docs.python.org/3/library/functions.html#ord\n"
      ],
      "metadata": {
        "id": "AnHCz1n_hrCX"
      }
    },
    {
      "cell_type": "code",
      "execution_count": null,
      "metadata": {
        "colab": {
          "base_uri": "https://localhost:8080/"
        },
        "id": "cgT1J5n9haAF",
        "outputId": "d1dd3171-b12f-4089-b46d-c6f699459c47"
      },
      "outputs": [
        {
          "output_type": "stream",
          "name": "stdout",
          "text": [
            "Mounted at /content/drive/\n"
          ]
        }
      ],
      "source": [
        "from google.colab import drive\n",
        "drive.mount('/content/drive/')"
      ]
    },
    {
      "cell_type": "code",
      "source": [
        "%ls /content/drive/MyDrive/images*"
      ],
      "metadata": {
        "colab": {
          "base_uri": "https://localhost:8080/"
        },
        "id": "QSk99_U5JSgW",
        "outputId": "eff3c961-914c-45c4-fdc7-d9e30bd2cc24"
      },
      "execution_count": null,
      "outputs": [
        {
          "output_type": "stream",
          "name": "stdout",
          "text": [
            "/content/drive/MyDrive/images.zip\n"
          ]
        }
      ]
    },
    {
      "cell_type": "code",
      "source": [
        "import zipfile\n",
        "import os\n",
        "\n",
        "def unzip(zip_file, extract_to):\n",
        "    with zipfile.ZipFile(zip_file, 'r') as zip_ref:\n",
        "        zip_ref.extractall(extract_to)\n",
        "\n",
        "zip_file = \"/content/drive/MyDrive/images.zip\"\n",
        "extract_to = \"/content/curr_dir\"\n",
        "\n",
        "unzip(zip_file, extract_to)\n"
      ],
      "metadata": {
        "id": "Wa5VBNi9Jc-n"
      },
      "execution_count": null,
      "outputs": []
    },
    {
      "cell_type": "code",
      "source": [
        "!ls /content/curr_dir/images_full"
      ],
      "metadata": {
        "colab": {
          "base_uri": "https://localhost:8080/"
        },
        "id": "OyQuMAhRJ0vb",
        "outputId": "2155564f-aadf-4345-af5d-7a33b9cc608f"
      },
      "execution_count": null,
      "outputs": [
        {
          "output_type": "stream",
          "name": "stdout",
          "text": [
            "images\tmodified_test.bmp  original_test.bmp\n"
          ]
        }
      ]
    },
    {
      "cell_type": "code",
      "source": [
        "import imageio\n",
        "import matplotlib.pyplot as plt\n",
        "import os\n"
      ],
      "metadata": {
        "id": "s2GAXsJbKLt2"
      },
      "execution_count": null,
      "outputs": []
    },
    {
      "cell_type": "code",
      "source": [
        "files_dict = dict()\n",
        "directory = \"/content/curr_dir/images_full/images\"\n",
        "for filename in os.listdir(directory):\n",
        "    if filename.endswith(\".bmp\"):\n",
        "        filepath = os.path.join(directory, filename)\n",
        "        image = imageio.imread(filepath)\n",
        "        files_dict[filename] = image"
      ],
      "metadata": {
        "colab": {
          "base_uri": "https://localhost:8080/"
        },
        "id": "tvrAMJPCKSLo",
        "outputId": "8a9e0b65-6f5d-466f-b51d-787a76d5b0d8"
      },
      "execution_count": null,
      "outputs": [
        {
          "output_type": "stream",
          "name": "stderr",
          "text": [
            "<ipython-input-6-901f2a462fe3>:6: DeprecationWarning: Starting with ImageIO v3 the behavior of this function will switch to that of iio.v3.imread. To keep the current behavior (and make this warning disappear) use `import imageio.v2 as imageio` or call `imageio.v2.imread` directly.\n",
            "  image = imageio.imread(filepath)\n"
          ]
        }
      ]
    },
    {
      "cell_type": "code",
      "source": [
        "control = dict()\n",
        "directory = \"/content/curr_dir/images_full\"\n",
        "for filename in os.listdir(directory):\n",
        "    if filename.endswith(\".bmp\"):\n",
        "        filepath = os.path.join(directory, filename)\n",
        "        image = imageio.imread(filepath)\n",
        "        control[filename] = image"
      ],
      "metadata": {
        "colab": {
          "base_uri": "https://localhost:8080/"
        },
        "id": "SktiDZNYTxr0",
        "outputId": "45a82615-3b34-4ad1-cf22-c3fa8472add7"
      },
      "execution_count": null,
      "outputs": [
        {
          "output_type": "stream",
          "name": "stderr",
          "text": [
            "<ipython-input-7-c02a22d88c15>:6: DeprecationWarning: Starting with ImageIO v3 the behavior of this function will switch to that of iio.v3.imread. To keep the current behavior (and make this warning disappear) use `import imageio.v2 as imageio` or call `imageio.v2.imread` directly.\n",
            "  image = imageio.imread(filepath)\n"
          ]
        }
      ]
    },
    {
      "cell_type": "code",
      "source": [
        "control.keys()"
      ],
      "metadata": {
        "colab": {
          "base_uri": "https://localhost:8080/"
        },
        "id": "lIl-UQgmT5MP",
        "outputId": "9eb795d1-afd6-4d1c-ce8e-12fe4e8df677"
      },
      "execution_count": null,
      "outputs": [
        {
          "output_type": "execute_result",
          "data": {
            "text/plain": [
              "dict_keys(['original_test.bmp', 'modified_test.bmp'])"
            ]
          },
          "metadata": {},
          "execution_count": 8
        }
      ]
    },
    {
      "cell_type": "code",
      "source": [
        "import re\n",
        "\n",
        "def extract_numbers_and_phrases(keys):\n",
        "    original_keys = {}\n",
        "    modified_keys = {}\n",
        "\n",
        "    for key in keys:\n",
        "        match_original = re.match(r'original_(\\d+)\\.bmp', key)\n",
        "        match_modified = re.match(r'modified_(\\d+)_(.+)\\.bmp', key)\n",
        "\n",
        "        if match_original:\n",
        "            number = match_original.group(1)\n",
        "            original_keys[number] = key\n",
        "        elif match_modified:\n",
        "            number = match_modified.group(1)\n",
        "            phrase = match_modified.group(2)\n",
        "            modified_keys[number] = (key, phrase)\n",
        "\n",
        "    matching_pairs = []\n",
        "    for number, original_key in original_keys.items():\n",
        "        if number in modified_keys:\n",
        "            modified_key, phrase = modified_keys[number]\n",
        "            matching_pairs.append((original_key, modified_key, phrase))\n",
        "\n",
        "    return matching_pairs\n",
        "\n",
        "\n",
        "result = extract_numbers_and_phrases(files_dict.keys())\n",
        "print(result)\n"
      ],
      "metadata": {
        "colab": {
          "base_uri": "https://localhost:8080/"
        },
        "id": "hMzXGT-9NGrF",
        "outputId": "692678f5-c645-43e4-d6bb-4e7b4f38f211"
      },
      "execution_count": null,
      "outputs": [
        {
          "output_type": "stream",
          "name": "stdout",
          "text": [
            "[('original_42251976.bmp', 'modified_42251976_fact.bmp', 'fact'), ('original_137341995.bmp', 'modified_137341995_world.bmp', 'world'), ('original_429773143.bmp', 'modified_429773143_place.bmp', 'place'), ('original_766169421.bmp', 'modified_766169421_thing.bmp', 'thing'), ('original_789732328.bmp', 'modified_789732328_case.bmp', 'case'), ('original_667130371.bmp', 'modified_667130371_child.bmp', 'child'), ('original_368824921.bmp', 'modified_368824921_year.bmp', 'year'), ('original_100136192.bmp', 'modified_100136192_case.bmp', 'case'), ('original_893947914.bmp', 'modified_893947914_life.bmp', 'life'), ('original_521503908.bmp', 'modified_521503908_way.bmp', 'way'), ('original_114034914.bmp', 'modified_114034914_government.bmp', 'government'), ('original_274561879.bmp', 'modified_274561879_life.bmp', 'life'), ('original_797989869.bmp', 'modified_797989869_number.bmp', 'number'), ('original_183076550.bmp', 'modified_183076550_fact.bmp', 'fact'), ('original_635335056.bmp', 'modified_635335056_problem.bmp', 'problem'), ('original_387496087.bmp', 'modified_387496087_government.bmp', 'government'), ('original_93249143.bmp', 'modified_93249143_week.bmp', 'week'), ('original_695686783.bmp', 'modified_695686783_fact.bmp', 'fact'), ('original_841817020.bmp', 'modified_841817020_time.bmp', 'time'), ('original_745239211.bmp', 'modified_745239211_fact.bmp', 'fact'), ('original_977101437.bmp', 'modified_977101437_day.bmp', 'day'), ('original_268630446.bmp', 'modified_268630446_group.bmp', 'group'), ('original_507923608.bmp', 'modified_507923608_woman.bmp', 'woman'), ('original_997767039.bmp', 'modified_997767039_work.bmp', 'work'), ('original_205995611.bmp', 'modified_205995611_day.bmp', 'day'), ('original_51269006.bmp', 'modified_51269006_place.bmp', 'place'), ('original_213345095.bmp', 'modified_213345095_day.bmp', 'day'), ('original_691284428.bmp', 'modified_691284428_thing.bmp', 'thing'), ('original_366505185.bmp', 'modified_366505185_day.bmp', 'day'), ('original_887744635.bmp', 'modified_887744635_fact.bmp', 'fact'), ('original_499764523.bmp', 'modified_499764523_woman.bmp', 'woman'), ('original_134516945.bmp', 'modified_134516945_point.bmp', 'point'), ('original_982066617.bmp', 'modified_982066617_year.bmp', 'year'), ('original_910234046.bmp', 'modified_910234046_hand.bmp', 'hand'), ('original_988344483.bmp', 'modified_988344483_problem.bmp', 'problem'), ('original_771862772.bmp', 'modified_771862772_case.bmp', 'case'), ('original_411734025.bmp', 'modified_411734025_man.bmp', 'man'), ('original_450707378.bmp', 'modified_450707378_government.bmp', 'government'), ('original_680720906.bmp', 'modified_680720906_company.bmp', 'company'), ('original_47703881.bmp', 'modified_47703881_group.bmp', 'group'), ('original_563027833.bmp', 'modified_563027833_work.bmp', 'work'), ('original_225057955.bmp', 'modified_225057955_case.bmp', 'case'), ('original_838205518.bmp', 'modified_838205518_year.bmp', 'year'), ('original_575507277.bmp', 'modified_575507277_child.bmp', 'child'), ('original_797525269.bmp', 'modified_797525269_case.bmp', 'case'), ('original_232878029.bmp', 'modified_232878029_world.bmp', 'world'), ('original_800744660.bmp', 'modified_800744660_fact.bmp', 'fact'), ('original_138956533.bmp', 'modified_138956533_group.bmp', 'group'), ('original_817938976.bmp', 'modified_817938976_day.bmp', 'day'), ('original_661041654.bmp', 'modified_661041654_man.bmp', 'man'), ('original_522028697.bmp', 'modified_522028697_work.bmp', 'work'), ('original_795832309.bmp', 'modified_795832309_child.bmp', 'child'), ('original_530721095.bmp', 'modified_530721095_week.bmp', 'week'), ('original_588876373.bmp', 'modified_588876373_problem.bmp', 'problem'), ('original_134049827.bmp', 'modified_134049827_child.bmp', 'child'), ('original_151674191.bmp', 'modified_151674191_problem.bmp', 'problem'), ('original_605667937.bmp', 'modified_605667937_life.bmp', 'life'), ('original_98399180.bmp', 'modified_98399180_company.bmp', 'company'), ('original_966386615.bmp', 'modified_966386615_problem.bmp', 'problem'), ('original_22030429.bmp', 'modified_22030429_fact.bmp', 'fact'), ('original_730883114.bmp', 'modified_730883114_problem.bmp', 'problem'), ('original_613456249.bmp', 'modified_613456249_government.bmp', 'government'), ('original_428241132.bmp', 'modified_428241132_year.bmp', 'year'), ('original_965391700.bmp', 'modified_965391700_thing.bmp', 'thing'), ('original_45387635.bmp', 'modified_45387635_world.bmp', 'world'), ('original_624982170.bmp', 'modified_624982170_fact.bmp', 'fact'), ('original_84381297.bmp', 'modified_84381297_work.bmp', 'work'), ('original_990951946.bmp', 'modified_990951946_point.bmp', 'point'), ('original_348322148.bmp', 'modified_348322148_fact.bmp', 'fact'), ('original_891170141.bmp', 'modified_891170141_problem.bmp', 'problem'), ('original_914451040.bmp', 'modified_914451040_number.bmp', 'number'), ('original_634123544.bmp', 'modified_634123544_day.bmp', 'day'), ('original_723566240.bmp', 'modified_723566240_man.bmp', 'man'), ('original_15474125.bmp', 'modified_15474125_woman.bmp', 'woman'), ('original_975835041.bmp', 'modified_975835041_point.bmp', 'point'), ('original_961938172.bmp', 'modified_961938172_company.bmp', 'company'), ('original_600144065.bmp', 'modified_600144065_case.bmp', 'case'), ('original_8552431.bmp', 'modified_8552431_point.bmp', 'point'), ('original_841749524.bmp', 'modified_841749524_woman.bmp', 'woman'), ('original_107663102.bmp', 'modified_107663102_thing.bmp', 'thing'), ('original_21145392.bmp', 'modified_21145392_woman.bmp', 'woman'), ('original_282656272.bmp', 'modified_282656272_way.bmp', 'way'), ('original_492891866.bmp', 'modified_492891866_eye.bmp', 'eye'), ('original_811913795.bmp', 'modified_811913795_fact.bmp', 'fact'), ('original_229785188.bmp', 'modified_229785188_case.bmp', 'case'), ('original_310793205.bmp', 'modified_310793205_life.bmp', 'life'), ('original_193493298.bmp', 'modified_193493298_thing.bmp', 'thing'), ('original_596371767.bmp', 'modified_596371767_work.bmp', 'work'), ('original_156555037.bmp', 'modified_156555037_world.bmp', 'world'), ('original_625151654.bmp', 'modified_625151654_week.bmp', 'week'), ('original_222868710.bmp', 'modified_222868710_life.bmp', 'life'), ('original_966712168.bmp', 'modified_966712168_place.bmp', 'place'), ('original_579915232.bmp', 'modified_579915232_woman.bmp', 'woman'), ('original_968928062.bmp', 'modified_968928062_day.bmp', 'day'), ('original_470123352.bmp', 'modified_470123352_woman.bmp', 'woman'), ('original_78883868.bmp', 'modified_78883868_time.bmp', 'time'), ('original_947933701.bmp', 'modified_947933701_week.bmp', 'week'), ('original_702182657.bmp', 'modified_702182657_work.bmp', 'work'), ('original_50621330.bmp', 'modified_50621330_fact.bmp', 'fact'), ('original_894638992.bmp', 'modified_894638992_thing.bmp', 'thing'), ('original_190912820.bmp', 'modified_190912820_world.bmp', 'world'), ('original_123668698.bmp', 'modified_123668698_person.bmp', 'person'), ('original_360567555.bmp', 'modified_360567555_week.bmp', 'week'), ('original_281520121.bmp', 'modified_281520121_hand.bmp', 'hand'), ('original_137204004.bmp', 'modified_137204004_part.bmp', 'part'), ('original_609852752.bmp', 'modified_609852752_week.bmp', 'week'), ('original_701826241.bmp', 'modified_701826241_way.bmp', 'way'), ('original_957441876.bmp', 'modified_957441876_point.bmp', 'point'), ('original_796433471.bmp', 'modified_796433471_number.bmp', 'number'), ('original_605009727.bmp', 'modified_605009727_woman.bmp', 'woman'), ('original_442259881.bmp', 'modified_442259881_part.bmp', 'part'), ('original_276553467.bmp', 'modified_276553467_fact.bmp', 'fact'), ('original_572445549.bmp', 'modified_572445549_company.bmp', 'company'), ('original_397542777.bmp', 'modified_397542777_week.bmp', 'week'), ('original_189063303.bmp', 'modified_189063303_way.bmp', 'way'), ('original_151438192.bmp', 'modified_151438192_work.bmp', 'work'), ('original_844317488.bmp', 'modified_844317488_work.bmp', 'work'), ('original_57641441.bmp', 'modified_57641441_child.bmp', 'child'), ('original_780055530.bmp', 'modified_780055530_person.bmp', 'person'), ('original_162127974.bmp', 'modified_162127974_company.bmp', 'company'), ('original_609516445.bmp', 'modified_609516445_problem.bmp', 'problem'), ('original_375916438.bmp', 'modified_375916438_time.bmp', 'time'), ('original_748070276.bmp', 'modified_748070276_child.bmp', 'child'), ('original_240083189.bmp', 'modified_240083189_point.bmp', 'point'), ('original_576136545.bmp', 'modified_576136545_year.bmp', 'year'), ('original_18111811.bmp', 'modified_18111811_fact.bmp', 'fact'), ('original_158950885.bmp', 'modified_158950885_time.bmp', 'time'), ('original_135907953.bmp', 'modified_135907953_eye.bmp', 'eye'), ('original_81123450.bmp', 'modified_81123450_woman.bmp', 'woman'), ('original_347482330.bmp', 'modified_347482330_person.bmp', 'person'), ('original_303271334.bmp', 'modified_303271334_group.bmp', 'group'), ('original_883155229.bmp', 'modified_883155229_woman.bmp', 'woman'), ('original_756439595.bmp', 'modified_756439595_woman.bmp', 'woman'), ('original_720498668.bmp', 'modified_720498668_way.bmp', 'way'), ('original_276197295.bmp', 'modified_276197295_number.bmp', 'number'), ('original_537048380.bmp', 'modified_537048380_case.bmp', 'case'), ('original_750272577.bmp', 'modified_750272577_part.bmp', 'part'), ('original_973147928.bmp', 'modified_973147928_group.bmp', 'group'), ('original_329916487.bmp', 'modified_329916487_part.bmp', 'part'), ('original_909028090.bmp', 'modified_909028090_number.bmp', 'number'), ('original_846301983.bmp', 'modified_846301983_point.bmp', 'point'), ('original_895903792.bmp', 'modified_895903792_hand.bmp', 'hand'), ('original_349354253.bmp', 'modified_349354253_time.bmp', 'time'), ('original_841992991.bmp', 'modified_841992991_government.bmp', 'government'), ('original_19294774.bmp', 'modified_19294774_part.bmp', 'part'), ('original_441399341.bmp', 'modified_441399341_man.bmp', 'man'), ('original_492233088.bmp', 'modified_492233088_group.bmp', 'group'), ('original_868042615.bmp', 'modified_868042615_life.bmp', 'life'), ('original_920877337.bmp', 'modified_920877337_hand.bmp', 'hand'), ('original_67997005.bmp', 'modified_67997005_hand.bmp', 'hand'), ('original_697333286.bmp', 'modified_697333286_person.bmp', 'person'), ('original_611563399.bmp', 'modified_611563399_case.bmp', 'case'), ('original_186534605.bmp', 'modified_186534605_point.bmp', 'point'), ('original_173320036.bmp', 'modified_173320036_woman.bmp', 'woman'), ('original_127239036.bmp', 'modified_127239036_man.bmp', 'man'), ('original_193624472.bmp', 'modified_193624472_hand.bmp', 'hand'), ('original_979144083.bmp', 'modified_979144083_child.bmp', 'child'), ('original_963555783.bmp', 'modified_963555783_time.bmp', 'time'), ('original_796606035.bmp', 'modified_796606035_week.bmp', 'week'), ('original_142746366.bmp', 'modified_142746366_fact.bmp', 'fact'), ('original_573845143.bmp', 'modified_573845143_problem.bmp', 'problem'), ('original_51150934.bmp', 'modified_51150934_hand.bmp', 'hand'), ('original_823860229.bmp', 'modified_823860229_place.bmp', 'place'), ('original_120416381.bmp', 'modified_120416381_hand.bmp', 'hand'), ('original_725979034.bmp', 'modified_725979034_way.bmp', 'way'), ('original_443221176.bmp', 'modified_443221176_point.bmp', 'point'), ('original_890692327.bmp', 'modified_890692327_woman.bmp', 'woman'), ('original_262874308.bmp', 'modified_262874308_problem.bmp', 'problem'), ('original_945725236.bmp', 'modified_945725236_work.bmp', 'work'), ('original_187123364.bmp', 'modified_187123364_government.bmp', 'government'), ('original_323900301.bmp', 'modified_323900301_child.bmp', 'child'), ('original_950127688.bmp', 'modified_950127688_eye.bmp', 'eye'), ('original_959513979.bmp', 'modified_959513979_government.bmp', 'government'), ('original_8801694.bmp', 'modified_8801694_case.bmp', 'case'), ('original_476190185.bmp', 'modified_476190185_case.bmp', 'case'), ('original_146753731.bmp', 'modified_146753731_time.bmp', 'time'), ('original_519222867.bmp', 'modified_519222867_life.bmp', 'life'), ('original_141261522.bmp', 'modified_141261522_time.bmp', 'time'), ('original_242224798.bmp', 'modified_242224798_place.bmp', 'place'), ('original_579716396.bmp', 'modified_579716396_woman.bmp', 'woman'), ('original_981474145.bmp', 'modified_981474145_number.bmp', 'number'), ('original_187923003.bmp', 'modified_187923003_government.bmp', 'government'), ('original_859107321.bmp', 'modified_859107321_woman.bmp', 'woman'), ('original_138804271.bmp', 'modified_138804271_point.bmp', 'point'), ('original_301811395.bmp', 'modified_301811395_number.bmp', 'number'), ('original_47511367.bmp', 'modified_47511367_way.bmp', 'way'), ('original_567822684.bmp', 'modified_567822684_hand.bmp', 'hand'), ('original_439769987.bmp', 'modified_439769987_year.bmp', 'year'), ('original_476454902.bmp', 'modified_476454902_woman.bmp', 'woman'), ('original_46763797.bmp', 'modified_46763797_man.bmp', 'man'), ('original_529773530.bmp', 'modified_529773530_person.bmp', 'person'), ('original_401723198.bmp', 'modified_401723198_work.bmp', 'work'), ('original_302888989.bmp', 'modified_302888989_eye.bmp', 'eye'), ('original_488821684.bmp', 'modified_488821684_case.bmp', 'case'), ('original_558383746.bmp', 'modified_558383746_person.bmp', 'person'), ('original_111081357.bmp', 'modified_111081357_woman.bmp', 'woman'), ('original_12822541.bmp', 'modified_12822541_hand.bmp', 'hand'), ('original_964031274.bmp', 'modified_964031274_part.bmp', 'part'), ('original_168422187.bmp', 'modified_168422187_life.bmp', 'life'), ('original_748320337.bmp', 'modified_748320337_part.bmp', 'part'), ('original_770299054.bmp', 'modified_770299054_world.bmp', 'world'), ('original_558310924.bmp', 'modified_558310924_world.bmp', 'world'), ('original_34128291.bmp', 'modified_34128291_eye.bmp', 'eye'), ('original_216512078.bmp', 'modified_216512078_thing.bmp', 'thing'), ('original_732970810.bmp', 'modified_732970810_number.bmp', 'number'), ('original_828104394.bmp', 'modified_828104394_man.bmp', 'man'), ('original_892438596.bmp', 'modified_892438596_point.bmp', 'point'), ('original_298308754.bmp', 'modified_298308754_way.bmp', 'way'), ('original_157856607.bmp', 'modified_157856607_time.bmp', 'time'), ('original_135995313.bmp', 'modified_135995313_person.bmp', 'person'), ('original_5808690.bmp', 'modified_5808690_fact.bmp', 'fact'), ('original_491337933.bmp', 'modified_491337933_year.bmp', 'year'), ('original_838561241.bmp', 'modified_838561241_number.bmp', 'number'), ('original_877850078.bmp', 'modified_877850078_day.bmp', 'day'), ('original_994384376.bmp', 'modified_994384376_place.bmp', 'place'), ('original_222186577.bmp', 'modified_222186577_man.bmp', 'man'), ('original_614641154.bmp', 'modified_614641154_thing.bmp', 'thing'), ('original_453518506.bmp', 'modified_453518506_way.bmp', 'way'), ('original_906262166.bmp', 'modified_906262166_company.bmp', 'company'), ('original_788520244.bmp', 'modified_788520244_hand.bmp', 'hand'), ('original_341974297.bmp', 'modified_341974297_fact.bmp', 'fact'), ('original_171671311.bmp', 'modified_171671311_hand.bmp', 'hand'), ('original_861877948.bmp', 'modified_861877948_week.bmp', 'week'), ('original_170747771.bmp', 'modified_170747771_eye.bmp', 'eye'), ('original_519296555.bmp', 'modified_519296555_company.bmp', 'company'), ('original_177919168.bmp', 'modified_177919168_work.bmp', 'work'), ('original_315121907.bmp', 'modified_315121907_week.bmp', 'week'), ('original_776089810.bmp', 'modified_776089810_day.bmp', 'day'), ('original_110819517.bmp', 'modified_110819517_day.bmp', 'day'), ('original_250330371.bmp', 'modified_250330371_day.bmp', 'day'), ('original_700378911.bmp', 'modified_700378911_number.bmp', 'number'), ('original_880902641.bmp', 'modified_880902641_point.bmp', 'point'), ('original_819325720.bmp', 'modified_819325720_week.bmp', 'week'), ('original_718883739.bmp', 'modified_718883739_way.bmp', 'way'), ('original_722897000.bmp', 'modified_722897000_day.bmp', 'day'), ('original_815333007.bmp', 'modified_815333007_problem.bmp', 'problem'), ('original_144695492.bmp', 'modified_144695492_case.bmp', 'case'), ('original_200841020.bmp', 'modified_200841020_life.bmp', 'life'), ('original_913366627.bmp', 'modified_913366627_day.bmp', 'day'), ('original_646623849.bmp', 'modified_646623849_life.bmp', 'life'), ('original_962296907.bmp', 'modified_962296907_eye.bmp', 'eye'), ('original_483333402.bmp', 'modified_483333402_way.bmp', 'way'), ('original_82209387.bmp', 'modified_82209387_company.bmp', 'company'), ('original_128330370.bmp', 'modified_128330370_person.bmp', 'person'), ('original_669972881.bmp', 'modified_669972881_fact.bmp', 'fact'), ('original_393835905.bmp', 'modified_393835905_week.bmp', 'week'), ('original_835317799.bmp', 'modified_835317799_number.bmp', 'number'), ('original_726567805.bmp', 'modified_726567805_group.bmp', 'group'), ('original_463648113.bmp', 'modified_463648113_point.bmp', 'point'), ('original_489813243.bmp', 'modified_489813243_week.bmp', 'week'), ('original_889699334.bmp', 'modified_889699334_time.bmp', 'time'), ('original_254581243.bmp', 'modified_254581243_man.bmp', 'man'), ('original_837857447.bmp', 'modified_837857447_eye.bmp', 'eye'), ('original_241130232.bmp', 'modified_241130232_government.bmp', 'government'), ('original_294427600.bmp', 'modified_294427600_number.bmp', 'number'), ('original_933915883.bmp', 'modified_933915883_point.bmp', 'point'), ('original_260199403.bmp', 'modified_260199403_man.bmp', 'man'), ('original_23096945.bmp', 'modified_23096945_way.bmp', 'way'), ('original_710797538.bmp', 'modified_710797538_number.bmp', 'number'), ('original_203154155.bmp', 'modified_203154155_year.bmp', 'year'), ('original_663763700.bmp', 'modified_663763700_case.bmp', 'case'), ('original_263646094.bmp', 'modified_263646094_life.bmp', 'life'), ('original_71585860.bmp', 'modified_71585860_time.bmp', 'time'), ('original_523887169.bmp', 'modified_523887169_fact.bmp', 'fact'), ('original_805559814.bmp', 'modified_805559814_way.bmp', 'way'), ('original_94487084.bmp', 'modified_94487084_thing.bmp', 'thing'), ('original_717936985.bmp', 'modified_717936985_year.bmp', 'year'), ('original_163317043.bmp', 'modified_163317043_number.bmp', 'number'), ('original_351482939.bmp', 'modified_351482939_hand.bmp', 'hand'), ('original_837342615.bmp', 'modified_837342615_child.bmp', 'child'), ('original_808947533.bmp', 'modified_808947533_work.bmp', 'work'), ('original_407609317.bmp', 'modified_407609317_fact.bmp', 'fact'), ('original_680370125.bmp', 'modified_680370125_work.bmp', 'work'), ('original_990861217.bmp', 'modified_990861217_person.bmp', 'person'), ('original_343105399.bmp', 'modified_343105399_way.bmp', 'way'), ('original_853690713.bmp', 'modified_853690713_thing.bmp', 'thing'), ('original_970167941.bmp', 'modified_970167941_work.bmp', 'work'), ('original_984586677.bmp', 'modified_984586677_year.bmp', 'year'), ('original_179975464.bmp', 'modified_179975464_thing.bmp', 'thing'), ('original_773094995.bmp', 'modified_773094995_company.bmp', 'company'), ('original_952712131.bmp', 'modified_952712131_company.bmp', 'company'), ('original_723562750.bmp', 'modified_723562750_place.bmp', 'place'), ('original_474440347.bmp', 'modified_474440347_year.bmp', 'year'), ('original_730835158.bmp', 'modified_730835158_world.bmp', 'world'), ('original_182688596.bmp', 'modified_182688596_life.bmp', 'life'), ('original_500285938.bmp', 'modified_500285938_woman.bmp', 'woman'), ('original_163293597.bmp', 'modified_163293597_world.bmp', 'world'), ('original_623995071.bmp', 'modified_623995071_thing.bmp', 'thing'), ('original_858087129.bmp', 'modified_858087129_company.bmp', 'company'), ('original_607193890.bmp', 'modified_607193890_man.bmp', 'man'), ('original_71320674.bmp', 'modified_71320674_day.bmp', 'day'), ('original_354466829.bmp', 'modified_354466829_case.bmp', 'case'), ('original_318353099.bmp', 'modified_318353099_woman.bmp', 'woman'), ('original_931420055.bmp', 'modified_931420055_government.bmp', 'government'), ('original_437700635.bmp', 'modified_437700635_case.bmp', 'case'), ('original_434245428.bmp', 'modified_434245428_company.bmp', 'company'), ('original_665387642.bmp', 'modified_665387642_point.bmp', 'point'), ('original_900035362.bmp', 'modified_900035362_work.bmp', 'work'), ('original_113434246.bmp', 'modified_113434246_year.bmp', 'year'), ('original_471077831.bmp', 'modified_471077831_case.bmp', 'case'), ('original_93489794.bmp', 'modified_93489794_government.bmp', 'government'), ('original_139735166.bmp', 'modified_139735166_work.bmp', 'work'), ('original_694574051.bmp', 'modified_694574051_day.bmp', 'day'), ('original_979304638.bmp', 'modified_979304638_work.bmp', 'work'), ('original_585240929.bmp', 'modified_585240929_child.bmp', 'child'), ('original_602388794.bmp', 'modified_602388794_person.bmp', 'person'), ('original_817875144.bmp', 'modified_817875144_week.bmp', 'week'), ('original_570410416.bmp', 'modified_570410416_government.bmp', 'government'), ('original_291110287.bmp', 'modified_291110287_point.bmp', 'point'), ('original_468068111.bmp', 'modified_468068111_work.bmp', 'work'), ('original_270034452.bmp', 'modified_270034452_number.bmp', 'number'), ('original_804851209.bmp', 'modified_804851209_case.bmp', 'case'), ('original_334708593.bmp', 'modified_334708593_man.bmp', 'man'), ('original_311407786.bmp', 'modified_311407786_group.bmp', 'group'), ('original_287532994.bmp', 'modified_287532994_problem.bmp', 'problem'), ('original_675714778.bmp', 'modified_675714778_eye.bmp', 'eye'), ('original_875104572.bmp', 'modified_875104572_group.bmp', 'group'), ('original_82903761.bmp', 'modified_82903761_place.bmp', 'place'), ('original_203481999.bmp', 'modified_203481999_government.bmp', 'government'), ('original_345017886.bmp', 'modified_345017886_way.bmp', 'way'), ('original_929973290.bmp', 'modified_929973290_work.bmp', 'work'), ('original_704084217.bmp', 'modified_704084217_work.bmp', 'work'), ('original_629549249.bmp', 'modified_629549249_work.bmp', 'work'), ('original_670720661.bmp', 'modified_670720661_hand.bmp', 'hand'), ('original_836191252.bmp', 'modified_836191252_hand.bmp', 'hand'), ('original_127511255.bmp', 'modified_127511255_eye.bmp', 'eye'), ('original_658319763.bmp', 'modified_658319763_case.bmp', 'case'), ('original_993329633.bmp', 'modified_993329633_place.bmp', 'place'), ('original_900460693.bmp', 'modified_900460693_point.bmp', 'point'), ('original_863906313.bmp', 'modified_863906313_government.bmp', 'government'), ('original_57745439.bmp', 'modified_57745439_part.bmp', 'part'), ('original_611825710.bmp', 'modified_611825710_work.bmp', 'work'), ('original_912262374.bmp', 'modified_912262374_week.bmp', 'week'), ('original_557222556.bmp', 'modified_557222556_company.bmp', 'company'), ('original_438086525.bmp', 'modified_438086525_number.bmp', 'number'), ('original_520872735.bmp', 'modified_520872735_thing.bmp', 'thing'), ('original_501633731.bmp', 'modified_501633731_case.bmp', 'case'), ('original_96597998.bmp', 'modified_96597998_problem.bmp', 'problem'), ('original_324219005.bmp', 'modified_324219005_group.bmp', 'group'), ('original_184816503.bmp', 'modified_184816503_fact.bmp', 'fact'), ('original_251791843.bmp', 'modified_251791843_case.bmp', 'case'), ('original_103713876.bmp', 'modified_103713876_group.bmp', 'group'), ('original_272486461.bmp', 'modified_272486461_company.bmp', 'company'), ('original_112739982.bmp', 'modified_112739982_hand.bmp', 'hand'), ('original_410087964.bmp', 'modified_410087964_point.bmp', 'point'), ('original_921184278.bmp', 'modified_921184278_government.bmp', 'government'), ('original_430232667.bmp', 'modified_430232667_number.bmp', 'number'), ('original_166848179.bmp', 'modified_166848179_point.bmp', 'point'), ('original_77561629.bmp', 'modified_77561629_case.bmp', 'case'), ('original_563894034.bmp', 'modified_563894034_child.bmp', 'child'), ('original_854129404.bmp', 'modified_854129404_government.bmp', 'government'), ('original_45906532.bmp', 'modified_45906532_world.bmp', 'world'), ('original_153058233.bmp', 'modified_153058233_point.bmp', 'point'), ('original_998235123.bmp', 'modified_998235123_time.bmp', 'time'), ('original_498997602.bmp', 'modified_498997602_child.bmp', 'child'), ('original_767316274.bmp', 'modified_767316274_man.bmp', 'man'), ('original_263494016.bmp', 'modified_263494016_person.bmp', 'person'), ('original_292554023.bmp', 'modified_292554023_hand.bmp', 'hand'), ('original_683106141.bmp', 'modified_683106141_life.bmp', 'life'), ('original_934375342.bmp', 'modified_934375342_child.bmp', 'child'), ('original_51981711.bmp', 'modified_51981711_week.bmp', 'week'), ('original_9290497.bmp', 'modified_9290497_man.bmp', 'man'), ('original_514696244.bmp', 'modified_514696244_problem.bmp', 'problem'), ('original_311284602.bmp', 'modified_311284602_government.bmp', 'government'), ('original_971632303.bmp', 'modified_971632303_day.bmp', 'day'), ('original_965977155.bmp', 'modified_965977155_number.bmp', 'number'), ('original_485286780.bmp', 'modified_485286780_man.bmp', 'man'), ('original_940753026.bmp', 'modified_940753026_man.bmp', 'man'), ('original_165152300.bmp', 'modified_165152300_man.bmp', 'man'), ('original_917175755.bmp', 'modified_917175755_case.bmp', 'case'), ('original_316311080.bmp', 'modified_316311080_week.bmp', 'week'), ('original_468851939.bmp', 'modified_468851939_point.bmp', 'point'), ('original_467608420.bmp', 'modified_467608420_year.bmp', 'year'), ('original_732136897.bmp', 'modified_732136897_man.bmp', 'man'), ('original_619512447.bmp', 'modified_619512447_hand.bmp', 'hand'), ('original_902009164.bmp', 'modified_902009164_fact.bmp', 'fact'), ('original_348273050.bmp', 'modified_348273050_government.bmp', 'government'), ('original_634979514.bmp', 'modified_634979514_eye.bmp', 'eye'), ('original_462584035.bmp', 'modified_462584035_company.bmp', 'company'), ('original_528416317.bmp', 'modified_528416317_child.bmp', 'child'), ('original_304500624.bmp', 'modified_304500624_point.bmp', 'point'), ('original_693952104.bmp', 'modified_693952104_hand.bmp', 'hand'), ('original_717335076.bmp', 'modified_717335076_time.bmp', 'time'), ('original_969350462.bmp', 'modified_969350462_eye.bmp', 'eye'), ('original_332551135.bmp', 'modified_332551135_fact.bmp', 'fact'), ('original_719966520.bmp', 'modified_719966520_thing.bmp', 'thing'), ('original_684038679.bmp', 'modified_684038679_point.bmp', 'point'), ('original_784494384.bmp', 'modified_784494384_case.bmp', 'case'), ('original_169404407.bmp', 'modified_169404407_year.bmp', 'year'), ('original_926414484.bmp', 'modified_926414484_number.bmp', 'number'), ('original_535299690.bmp', 'modified_535299690_government.bmp', 'government'), ('original_867392656.bmp', 'modified_867392656_place.bmp', 'place'), ('original_769135565.bmp', 'modified_769135565_company.bmp', 'company'), ('original_489642734.bmp', 'modified_489642734_world.bmp', 'world'), ('original_50102039.bmp', 'modified_50102039_person.bmp', 'person'), ('original_559546305.bmp', 'modified_559546305_thing.bmp', 'thing'), ('original_812055960.bmp', 'modified_812055960_case.bmp', 'case'), ('original_626060564.bmp', 'modified_626060564_work.bmp', 'work'), ('original_923817851.bmp', 'modified_923817851_part.bmp', 'part'), ('original_401557375.bmp', 'modified_401557375_number.bmp', 'number'), ('original_346939859.bmp', 'modified_346939859_fact.bmp', 'fact'), ('original_148561455.bmp', 'modified_148561455_place.bmp', 'place'), ('original_435561464.bmp', 'modified_435561464_person.bmp', 'person'), ('original_155650545.bmp', 'modified_155650545_time.bmp', 'time'), ('original_278872913.bmp', 'modified_278872913_part.bmp', 'part'), ('original_742829510.bmp', 'modified_742829510_place.bmp', 'place'), ('original_592653973.bmp', 'modified_592653973_work.bmp', 'work'), ('original_97538302.bmp', 'modified_97538302_point.bmp', 'point'), ('original_833913795.bmp', 'modified_833913795_point.bmp', 'point'), ('original_536307282.bmp', 'modified_536307282_work.bmp', 'work'), ('original_215833190.bmp', 'modified_215833190_way.bmp', 'way'), ('original_460697979.bmp', 'modified_460697979_eye.bmp', 'eye'), ('original_493875001.bmp', 'modified_493875001_government.bmp', 'government'), ('original_927498707.bmp', 'modified_927498707_time.bmp', 'time'), ('original_642445493.bmp', 'modified_642445493_day.bmp', 'day'), ('original_669430743.bmp', 'modified_669430743_point.bmp', 'point'), ('original_837513410.bmp', 'modified_837513410_point.bmp', 'point'), ('original_620814945.bmp', 'modified_620814945_number.bmp', 'number'), ('original_874189664.bmp', 'modified_874189664_fact.bmp', 'fact'), ('original_571070507.bmp', 'modified_571070507_child.bmp', 'child'), ('original_983243837.bmp', 'modified_983243837_time.bmp', 'time'), ('original_46206088.bmp', 'modified_46206088_year.bmp', 'year'), ('original_372088870.bmp', 'modified_372088870_day.bmp', 'day'), ('original_686392012.bmp', 'modified_686392012_place.bmp', 'place'), ('original_553144791.bmp', 'modified_553144791_point.bmp', 'point'), ('original_437695763.bmp', 'modified_437695763_day.bmp', 'day'), ('original_385063489.bmp', 'modified_385063489_point.bmp', 'point'), ('original_859744457.bmp', 'modified_859744457_number.bmp', 'number'), ('original_539293422.bmp', 'modified_539293422_day.bmp', 'day'), ('original_306083296.bmp', 'modified_306083296_place.bmp', 'place'), ('original_971912264.bmp', 'modified_971912264_part.bmp', 'part'), ('original_685689665.bmp', 'modified_685689665_world.bmp', 'world'), ('original_488332771.bmp', 'modified_488332771_person.bmp', 'person'), ('original_41195089.bmp', 'modified_41195089_problem.bmp', 'problem'), ('original_320053843.bmp', 'modified_320053843_fact.bmp', 'fact'), ('original_468526717.bmp', 'modified_468526717_number.bmp', 'number'), ('original_998816985.bmp', 'modified_998816985_fact.bmp', 'fact'), ('original_864462203.bmp', 'modified_864462203_way.bmp', 'way'), ('original_535936946.bmp', 'modified_535936946_part.bmp', 'part'), ('original_907673241.bmp', 'modified_907673241_company.bmp', 'company'), ('original_801460455.bmp', 'modified_801460455_woman.bmp', 'woman'), ('original_530165227.bmp', 'modified_530165227_child.bmp', 'child'), ('original_491315068.bmp', 'modified_491315068_world.bmp', 'world'), ('original_987354893.bmp', 'modified_987354893_part.bmp', 'part'), ('original_330832972.bmp', 'modified_330832972_fact.bmp', 'fact'), ('original_921506366.bmp', 'modified_921506366_number.bmp', 'number'), ('original_146230800.bmp', 'modified_146230800_number.bmp', 'number'), ('original_578068019.bmp', 'modified_578068019_child.bmp', 'child'), ('original_163327357.bmp', 'modified_163327357_thing.bmp', 'thing'), ('original_767569120.bmp', 'modified_767569120_time.bmp', 'time'), ('original_239177973.bmp', 'modified_239177973_part.bmp', 'part'), ('original_648491404.bmp', 'modified_648491404_week.bmp', 'week'), ('original_467936395.bmp', 'modified_467936395_work.bmp', 'work'), ('original_726488986.bmp', 'modified_726488986_government.bmp', 'government'), ('original_564138415.bmp', 'modified_564138415_eye.bmp', 'eye'), ('original_912334425.bmp', 'modified_912334425_fact.bmp', 'fact'), ('original_351770263.bmp', 'modified_351770263_eye.bmp', 'eye'), ('original_550986352.bmp', 'modified_550986352_eye.bmp', 'eye'), ('original_152651575.bmp', 'modified_152651575_time.bmp', 'time'), ('original_521926244.bmp', 'modified_521926244_child.bmp', 'child'), ('original_442459155.bmp', 'modified_442459155_woman.bmp', 'woman'), ('original_610710148.bmp', 'modified_610710148_woman.bmp', 'woman'), ('original_179040053.bmp', 'modified_179040053_year.bmp', 'year'), ('original_760643839.bmp', 'modified_760643839_number.bmp', 'number'), ('original_688908106.bmp', 'modified_688908106_eye.bmp', 'eye'), ('original_176094909.bmp', 'modified_176094909_man.bmp', 'man'), ('original_11939281.bmp', 'modified_11939281_year.bmp', 'year'), ('original_766414753.bmp', 'modified_766414753_way.bmp', 'way'), ('original_961918972.bmp', 'modified_961918972_work.bmp', 'work'), ('original_832405520.bmp', 'modified_832405520_day.bmp', 'day'), ('original_153333053.bmp', 'modified_153333053_way.bmp', 'way'), ('original_908944019.bmp', 'modified_908944019_week.bmp', 'week'), ('original_449375687.bmp', 'modified_449375687_work.bmp', 'work'), ('original_274612680.bmp', 'modified_274612680_number.bmp', 'number'), ('original_584958056.bmp', 'modified_584958056_case.bmp', 'case'), ('original_586491962.bmp', 'modified_586491962_way.bmp', 'way'), ('original_234773408.bmp', 'modified_234773408_thing.bmp', 'thing'), ('original_63194985.bmp', 'modified_63194985_person.bmp', 'person'), ('original_378735254.bmp', 'modified_378735254_problem.bmp', 'problem'), ('original_313368606.bmp', 'modified_313368606_thing.bmp', 'thing'), ('original_813843582.bmp', 'modified_813843582_point.bmp', 'point'), ('original_854859978.bmp', 'modified_854859978_point.bmp', 'point'), ('original_258012379.bmp', 'modified_258012379_year.bmp', 'year'), ('original_318473676.bmp', 'modified_318473676_work.bmp', 'work'), ('original_48579853.bmp', 'modified_48579853_way.bmp', 'way'), ('original_173765958.bmp', 'modified_173765958_child.bmp', 'child'), ('original_726061353.bmp', 'modified_726061353_world.bmp', 'world'), ('original_887740101.bmp', 'modified_887740101_week.bmp', 'week'), ('original_484163313.bmp', 'modified_484163313_life.bmp', 'life'), ('original_489101035.bmp', 'modified_489101035_place.bmp', 'place'), ('original_474970299.bmp', 'modified_474970299_life.bmp', 'life'), ('original_11339765.bmp', 'modified_11339765_day.bmp', 'day'), ('original_467775431.bmp', 'modified_467775431_group.bmp', 'group'), ('original_858360539.bmp', 'modified_858360539_world.bmp', 'world'), ('original_797040159.bmp', 'modified_797040159_company.bmp', 'company'), ('original_406601227.bmp', 'modified_406601227_thing.bmp', 'thing'), ('original_891521788.bmp', 'modified_891521788_child.bmp', 'child'), ('original_305490967.bmp', 'modified_305490967_eye.bmp', 'eye'), ('original_44089016.bmp', 'modified_44089016_part.bmp', 'part'), ('original_558159885.bmp', 'modified_558159885_work.bmp', 'work'), ('original_505878432.bmp', 'modified_505878432_life.bmp', 'life'), ('original_391606492.bmp', 'modified_391606492_fact.bmp', 'fact'), ('original_588317008.bmp', 'modified_588317008_number.bmp', 'number'), ('original_121501783.bmp', 'modified_121501783_thing.bmp', 'thing'), ('original_209145326.bmp', 'modified_209145326_case.bmp', 'case'), ('original_443153872.bmp', 'modified_443153872_week.bmp', 'week'), ('original_644320520.bmp', 'modified_644320520_point.bmp', 'point'), ('original_979846118.bmp', 'modified_979846118_week.bmp', 'week'), ('original_649331661.bmp', 'modified_649331661_man.bmp', 'man'), ('original_223444498.bmp', 'modified_223444498_place.bmp', 'place'), ('original_654073719.bmp', 'modified_654073719_child.bmp', 'child'), ('original_834711376.bmp', 'modified_834711376_week.bmp', 'week'), ('original_524266011.bmp', 'modified_524266011_child.bmp', 'child'), ('original_796354483.bmp', 'modified_796354483_eye.bmp', 'eye'), ('original_389946933.bmp', 'modified_389946933_man.bmp', 'man'), ('original_922278359.bmp', 'modified_922278359_hand.bmp', 'hand'), ('original_655934422.bmp', 'modified_655934422_government.bmp', 'government'), ('original_492739709.bmp', 'modified_492739709_time.bmp', 'time'), ('original_478696724.bmp', 'modified_478696724_case.bmp', 'case'), ('original_705637498.bmp', 'modified_705637498_time.bmp', 'time'), ('original_821688989.bmp', 'modified_821688989_place.bmp', 'place'), ('original_711581517.bmp', 'modified_711581517_thing.bmp', 'thing'), ('original_185384938.bmp', 'modified_185384938_government.bmp', 'government'), ('original_865336215.bmp', 'modified_865336215_company.bmp', 'company'), ('original_178551910.bmp', 'modified_178551910_problem.bmp', 'problem'), ('original_656016323.bmp', 'modified_656016323_time.bmp', 'time'), ('original_158902214.bmp', 'modified_158902214_point.bmp', 'point'), ('original_526338866.bmp', 'modified_526338866_place.bmp', 'place'), ('original_575880848.bmp', 'modified_575880848_eye.bmp', 'eye'), ('original_438344681.bmp', 'modified_438344681_problem.bmp', 'problem'), ('original_576954627.bmp', 'modified_576954627_person.bmp', 'person'), ('original_656951887.bmp', 'modified_656951887_world.bmp', 'world'), ('original_543124641.bmp', 'modified_543124641_life.bmp', 'life'), ('original_38562184.bmp', 'modified_38562184_government.bmp', 'government'), ('original_535252008.bmp', 'modified_535252008_part.bmp', 'part'), ('original_932762022.bmp', 'modified_932762022_eye.bmp', 'eye'), ('original_784267235.bmp', 'modified_784267235_place.bmp', 'place'), ('original_866782108.bmp', 'modified_866782108_day.bmp', 'day'), ('original_229954446.bmp', 'modified_229954446_woman.bmp', 'woman'), ('original_574089008.bmp', 'modified_574089008_eye.bmp', 'eye'), ('original_46898878.bmp', 'modified_46898878_problem.bmp', 'problem'), ('original_153455120.bmp', 'modified_153455120_work.bmp', 'work'), ('original_889327622.bmp', 'modified_889327622_woman.bmp', 'woman'), ('original_316234972.bmp', 'modified_316234972_part.bmp', 'part'), ('original_559156855.bmp', 'modified_559156855_fact.bmp', 'fact'), ('original_773691896.bmp', 'modified_773691896_day.bmp', 'day'), ('original_24952157.bmp', 'modified_24952157_case.bmp', 'case'), ('original_644215446.bmp', 'modified_644215446_hand.bmp', 'hand'), ('original_223094000.bmp', 'modified_223094000_day.bmp', 'day'), ('original_313692385.bmp', 'modified_313692385_way.bmp', 'way'), ('original_19177255.bmp', 'modified_19177255_problem.bmp', 'problem'), ('original_460471187.bmp', 'modified_460471187_case.bmp', 'case'), ('original_552992074.bmp', 'modified_552992074_point.bmp', 'point'), ('original_521871174.bmp', 'modified_521871174_government.bmp', 'government'), ('original_399592631.bmp', 'modified_399592631_hand.bmp', 'hand'), ('original_95745635.bmp', 'modified_95745635_day.bmp', 'day'), ('original_370775855.bmp', 'modified_370775855_thing.bmp', 'thing'), ('original_595014143.bmp', 'modified_595014143_world.bmp', 'world'), ('original_562839313.bmp', 'modified_562839313_problem.bmp', 'problem'), ('original_244885733.bmp', 'modified_244885733_number.bmp', 'number'), ('original_787401491.bmp', 'modified_787401491_group.bmp', 'group'), ('original_193863752.bmp', 'modified_193863752_day.bmp', 'day'), ('original_910218017.bmp', 'modified_910218017_life.bmp', 'life'), ('original_467051491.bmp', 'modified_467051491_time.bmp', 'time'), ('original_774987861.bmp', 'modified_774987861_case.bmp', 'case'), ('original_306006650.bmp', 'modified_306006650_work.bmp', 'work'), ('original_334886925.bmp', 'modified_334886925_eye.bmp', 'eye'), ('original_622360679.bmp', 'modified_622360679_case.bmp', 'case'), ('original_138344673.bmp', 'modified_138344673_world.bmp', 'world'), ('original_850619740.bmp', 'modified_850619740_child.bmp', 'child'), ('original_172811023.bmp', 'modified_172811023_problem.bmp', 'problem'), ('original_925521134.bmp', 'modified_925521134_person.bmp', 'person'), ('original_630918934.bmp', 'modified_630918934_eye.bmp', 'eye'), ('original_870835742.bmp', 'modified_870835742_place.bmp', 'place'), ('original_326897043.bmp', 'modified_326897043_week.bmp', 'week'), ('original_529109204.bmp', 'modified_529109204_day.bmp', 'day'), ('original_325597837.bmp', 'modified_325597837_year.bmp', 'year'), ('original_477820958.bmp', 'modified_477820958_child.bmp', 'child'), ('original_160118732.bmp', 'modified_160118732_life.bmp', 'life'), ('original_679314264.bmp', 'modified_679314264_woman.bmp', 'woman'), ('original_838703755.bmp', 'modified_838703755_problem.bmp', 'problem'), ('original_669560215.bmp', 'modified_669560215_group.bmp', 'group'), ('original_183995646.bmp', 'modified_183995646_man.bmp', 'man'), ('original_51245492.bmp', 'modified_51245492_problem.bmp', 'problem'), ('original_829249781.bmp', 'modified_829249781_part.bmp', 'part'), ('original_117546224.bmp', 'modified_117546224_world.bmp', 'world'), ('original_686446396.bmp', 'modified_686446396_work.bmp', 'work'), ('original_20342707.bmp', 'modified_20342707_way.bmp', 'way'), ('original_793702142.bmp', 'modified_793702142_person.bmp', 'person'), ('original_9522178.bmp', 'modified_9522178_group.bmp', 'group'), ('original_892426846.bmp', 'modified_892426846_way.bmp', 'way'), ('original_877266919.bmp', 'modified_877266919_week.bmp', 'week'), ('original_203920352.bmp', 'modified_203920352_company.bmp', 'company'), ('original_167963625.bmp', 'modified_167963625_case.bmp', 'case'), ('original_303790155.bmp', 'modified_303790155_number.bmp', 'number'), ('original_890435561.bmp', 'modified_890435561_government.bmp', 'government'), ('original_487516169.bmp', 'modified_487516169_man.bmp', 'man'), ('original_369796141.bmp', 'modified_369796141_work.bmp', 'work'), ('original_676770167.bmp', 'modified_676770167_man.bmp', 'man'), ('original_504944095.bmp', 'modified_504944095_time.bmp', 'time'), ('original_934676519.bmp', 'modified_934676519_woman.bmp', 'woman'), ('original_989313468.bmp', 'modified_989313468_thing.bmp', 'thing'), ('original_625915845.bmp', 'modified_625915845_point.bmp', 'point'), ('original_545416797.bmp', 'modified_545416797_problem.bmp', 'problem'), ('original_190118536.bmp', 'modified_190118536_eye.bmp', 'eye'), ('original_600146928.bmp', 'modified_600146928_thing.bmp', 'thing'), ('original_875061471.bmp', 'modified_875061471_life.bmp', 'life'), ('original_266199499.bmp', 'modified_266199499_day.bmp', 'day'), ('original_962442218.bmp', 'modified_962442218_week.bmp', 'week'), ('original_602820162.bmp', 'modified_602820162_company.bmp', 'company'), ('original_777929803.bmp', 'modified_777929803_thing.bmp', 'thing'), ('original_612079215.bmp', 'modified_612079215_person.bmp', 'person'), ('original_586687677.bmp', 'modified_586687677_woman.bmp', 'woman'), ('original_853381441.bmp', 'modified_853381441_work.bmp', 'work'), ('original_247542863.bmp', 'modified_247542863_man.bmp', 'man'), ('original_691412538.bmp', 'modified_691412538_world.bmp', 'world'), ('original_401008974.bmp', 'modified_401008974_man.bmp', 'man'), ('original_91632811.bmp', 'modified_91632811_hand.bmp', 'hand'), ('original_96935352.bmp', 'modified_96935352_group.bmp', 'group'), ('original_384378194.bmp', 'modified_384378194_work.bmp', 'work'), ('original_865638876.bmp', 'modified_865638876_eye.bmp', 'eye'), ('original_790161775.bmp', 'modified_790161775_woman.bmp', 'woman'), ('original_758563037.bmp', 'modified_758563037_day.bmp', 'day'), ('original_712292961.bmp', 'modified_712292961_work.bmp', 'work'), ('original_119940848.bmp', 'modified_119940848_year.bmp', 'year'), ('original_835771686.bmp', 'modified_835771686_company.bmp', 'company'), ('original_22874451.bmp', 'modified_22874451_man.bmp', 'man'), ('original_619970041.bmp', 'modified_619970041_woman.bmp', 'woman'), ('original_890581894.bmp', 'modified_890581894_woman.bmp', 'woman'), ('original_605383117.bmp', 'modified_605383117_group.bmp', 'group'), ('original_795969951.bmp', 'modified_795969951_place.bmp', 'place'), ('original_962857259.bmp', 'modified_962857259_company.bmp', 'company'), ('original_433677245.bmp', 'modified_433677245_point.bmp', 'point'), ('original_479945666.bmp', 'modified_479945666_problem.bmp', 'problem'), ('original_567921576.bmp', 'modified_567921576_year.bmp', 'year'), ('original_674465942.bmp', 'modified_674465942_child.bmp', 'child'), ('original_842126465.bmp', 'modified_842126465_fact.bmp', 'fact'), ('original_271610309.bmp', 'modified_271610309_problem.bmp', 'problem'), ('original_529076320.bmp', 'modified_529076320_number.bmp', 'number'), ('original_354217692.bmp', 'modified_354217692_person.bmp', 'person'), ('original_336877519.bmp', 'modified_336877519_eye.bmp', 'eye'), ('original_98728176.bmp', 'modified_98728176_hand.bmp', 'hand'), ('original_629091158.bmp', 'modified_629091158_thing.bmp', 'thing'), ('original_626463949.bmp', 'modified_626463949_man.bmp', 'man'), ('original_860853412.bmp', 'modified_860853412_work.bmp', 'work'), ('original_619080719.bmp', 'modified_619080719_man.bmp', 'man'), ('original_354082937.bmp', 'modified_354082937_case.bmp', 'case'), ('original_462650265.bmp', 'modified_462650265_number.bmp', 'number'), ('original_787161939.bmp', 'modified_787161939_man.bmp', 'man'), ('original_572507208.bmp', 'modified_572507208_day.bmp', 'day'), ('original_438647961.bmp', 'modified_438647961_life.bmp', 'life'), ('original_37776212.bmp', 'modified_37776212_place.bmp', 'place'), ('original_469867930.bmp', 'modified_469867930_way.bmp', 'way'), ('original_906350477.bmp', 'modified_906350477_man.bmp', 'man'), ('original_53071698.bmp', 'modified_53071698_part.bmp', 'part'), ('original_908674425.bmp', 'modified_908674425_woman.bmp', 'woman'), ('original_295281567.bmp', 'modified_295281567_place.bmp', 'place'), ('original_653192263.bmp', 'modified_653192263_year.bmp', 'year'), ('original_639315860.bmp', 'modified_639315860_world.bmp', 'world'), ('original_365096492.bmp', 'modified_365096492_child.bmp', 'child'), ('original_267872063.bmp', 'modified_267872063_problem.bmp', 'problem'), ('original_11345292.bmp', 'modified_11345292_case.bmp', 'case'), ('original_8521657.bmp', 'modified_8521657_work.bmp', 'work'), ('original_330843989.bmp', 'modified_330843989_company.bmp', 'company'), ('original_333911750.bmp', 'modified_333911750_world.bmp', 'world'), ('original_810024735.bmp', 'modified_810024735_child.bmp', 'child'), ('original_339710808.bmp', 'modified_339710808_fact.bmp', 'fact'), ('original_568957079.bmp', 'modified_568957079_eye.bmp', 'eye'), ('original_735182221.bmp', 'modified_735182221_life.bmp', 'life'), ('original_484241223.bmp', 'modified_484241223_woman.bmp', 'woman'), ('original_957316423.bmp', 'modified_957316423_point.bmp', 'point'), ('original_561228234.bmp', 'modified_561228234_eye.bmp', 'eye'), ('original_159540137.bmp', 'modified_159540137_government.bmp', 'government'), ('original_658265882.bmp', 'modified_658265882_company.bmp', 'company'), ('original_642776628.bmp', 'modified_642776628_problem.bmp', 'problem'), ('original_182537847.bmp', 'modified_182537847_person.bmp', 'person'), ('original_918400517.bmp', 'modified_918400517_eye.bmp', 'eye'), ('original_203577443.bmp', 'modified_203577443_number.bmp', 'number'), ('original_782923905.bmp', 'modified_782923905_work.bmp', 'work'), ('original_134826621.bmp', 'modified_134826621_fact.bmp', 'fact'), ('original_748162280.bmp', 'modified_748162280_day.bmp', 'day'), ('original_812477507.bmp', 'modified_812477507_group.bmp', 'group'), ('original_617726107.bmp', 'modified_617726107_part.bmp', 'part'), ('original_92357628.bmp', 'modified_92357628_woman.bmp', 'woman'), ('original_862990796.bmp', 'modified_862990796_group.bmp', 'group'), ('original_273640336.bmp', 'modified_273640336_eye.bmp', 'eye'), ('original_209090850.bmp', 'modified_209090850_number.bmp', 'number'), ('original_625937766.bmp', 'modified_625937766_day.bmp', 'day'), ('original_967798980.bmp', 'modified_967798980_life.bmp', 'life'), ('original_325610109.bmp', 'modified_325610109_life.bmp', 'life'), ('original_980638476.bmp', 'modified_980638476_day.bmp', 'day'), ('original_202512400.bmp', 'modified_202512400_week.bmp', 'week'), ('original_867130972.bmp', 'modified_867130972_eye.bmp', 'eye'), ('original_440553091.bmp', 'modified_440553091_place.bmp', 'place'), ('original_259864061.bmp', 'modified_259864061_year.bmp', 'year'), ('original_558802716.bmp', 'modified_558802716_company.bmp', 'company'), ('original_585940518.bmp', 'modified_585940518_person.bmp', 'person'), ('original_118299048.bmp', 'modified_118299048_problem.bmp', 'problem'), ('original_343262136.bmp', 'modified_343262136_world.bmp', 'world'), ('original_27890467.bmp', 'modified_27890467_group.bmp', 'group'), ('original_409712114.bmp', 'modified_409712114_thing.bmp', 'thing'), ('original_934368071.bmp', 'modified_934368071_hand.bmp', 'hand'), ('original_464585290.bmp', 'modified_464585290_eye.bmp', 'eye'), ('original_753594732.bmp', 'modified_753594732_eye.bmp', 'eye'), ('original_978177238.bmp', 'modified_978177238_day.bmp', 'day'), ('original_911263280.bmp', 'modified_911263280_man.bmp', 'man'), ('original_851325384.bmp', 'modified_851325384_man.bmp', 'man'), ('original_239615417.bmp', 'modified_239615417_thing.bmp', 'thing'), ('original_647362526.bmp', 'modified_647362526_man.bmp', 'man'), ('original_627039354.bmp', 'modified_627039354_woman.bmp', 'woman'), ('original_967057072.bmp', 'modified_967057072_work.bmp', 'work'), ('original_561582771.bmp', 'modified_561582771_hand.bmp', 'hand'), ('original_834881316.bmp', 'modified_834881316_person.bmp', 'person'), ('original_586091990.bmp', 'modified_586091990_number.bmp', 'number'), ('original_499263735.bmp', 'modified_499263735_man.bmp', 'man'), ('original_352347484.bmp', 'modified_352347484_life.bmp', 'life'), ('original_758221509.bmp', 'modified_758221509_place.bmp', 'place'), ('original_488502048.bmp', 'modified_488502048_company.bmp', 'company'), ('original_32772499.bmp', 'modified_32772499_way.bmp', 'way'), ('original_990816312.bmp', 'modified_990816312_woman.bmp', 'woman'), ('original_563272058.bmp', 'modified_563272058_eye.bmp', 'eye'), ('original_363630683.bmp', 'modified_363630683_way.bmp', 'way'), ('original_671417687.bmp', 'modified_671417687_way.bmp', 'way'), ('original_195914570.bmp', 'modified_195914570_thing.bmp', 'thing'), ('original_754281222.bmp', 'modified_754281222_fact.bmp', 'fact'), ('original_167656224.bmp', 'modified_167656224_point.bmp', 'point'), ('original_555143921.bmp', 'modified_555143921_way.bmp', 'way'), ('original_257513743.bmp', 'modified_257513743_week.bmp', 'week'), ('original_183878158.bmp', 'modified_183878158_government.bmp', 'government'), ('original_798621219.bmp', 'modified_798621219_person.bmp', 'person'), ('original_371023992.bmp', 'modified_371023992_child.bmp', 'child'), ('original_351999748.bmp', 'modified_351999748_thing.bmp', 'thing'), ('original_750135603.bmp', 'modified_750135603_point.bmp', 'point'), ('original_775378245.bmp', 'modified_775378245_world.bmp', 'world'), ('original_580044908.bmp', 'modified_580044908_eye.bmp', 'eye'), ('original_154344271.bmp', 'modified_154344271_place.bmp', 'place'), ('original_587182194.bmp', 'modified_587182194_place.bmp', 'place'), ('original_341992031.bmp', 'modified_341992031_company.bmp', 'company'), ('original_392734853.bmp', 'modified_392734853_place.bmp', 'place'), ('original_344828268.bmp', 'modified_344828268_time.bmp', 'time'), ('original_865106370.bmp', 'modified_865106370_number.bmp', 'number'), ('original_366705340.bmp', 'modified_366705340_thing.bmp', 'thing'), ('original_616493852.bmp', 'modified_616493852_person.bmp', 'person'), ('original_443264404.bmp', 'modified_443264404_work.bmp', 'work'), ('original_308723354.bmp', 'modified_308723354_number.bmp', 'number'), ('original_808718181.bmp', 'modified_808718181_company.bmp', 'company'), ('original_692898431.bmp', 'modified_692898431_day.bmp', 'day'), ('original_880307743.bmp', 'modified_880307743_day.bmp', 'day'), ('original_499003955.bmp', 'modified_499003955_part.bmp', 'part'), ('original_16676385.bmp', 'modified_16676385_person.bmp', 'person'), ('original_103953357.bmp', 'modified_103953357_year.bmp', 'year'), ('original_12295284.bmp', 'modified_12295284_number.bmp', 'number'), ('original_193619744.bmp', 'modified_193619744_work.bmp', 'work'), ('original_57301264.bmp', 'modified_57301264_week.bmp', 'week'), ('original_251660586.bmp', 'modified_251660586_problem.bmp', 'problem'), ('original_746155092.bmp', 'modified_746155092_case.bmp', 'case'), ('original_697616376.bmp', 'modified_697616376_point.bmp', 'point'), ('original_826102470.bmp', 'modified_826102470_point.bmp', 'point'), ('original_739351643.bmp', 'modified_739351643_man.bmp', 'man'), ('original_294586894.bmp', 'modified_294586894_number.bmp', 'number'), ('original_571452466.bmp', 'modified_571452466_time.bmp', 'time'), ('original_487346922.bmp', 'modified_487346922_person.bmp', 'person'), ('original_645329683.bmp', 'modified_645329683_number.bmp', 'number'), ('original_564577628.bmp', 'modified_564577628_thing.bmp', 'thing'), ('original_918056586.bmp', 'modified_918056586_problem.bmp', 'problem'), ('original_301076068.bmp', 'modified_301076068_man.bmp', 'man'), ('original_728865332.bmp', 'modified_728865332_world.bmp', 'world'), ('original_65168621.bmp', 'modified_65168621_way.bmp', 'way'), ('original_508589364.bmp', 'modified_508589364_thing.bmp', 'thing'), ('original_255746932.bmp', 'modified_255746932_case.bmp', 'case'), ('original_927069506.bmp', 'modified_927069506_problem.bmp', 'problem'), ('original_354835344.bmp', 'modified_354835344_year.bmp', 'year'), ('original_186504741.bmp', 'modified_186504741_government.bmp', 'government'), ('original_167740279.bmp', 'modified_167740279_world.bmp', 'world'), ('original_571201793.bmp', 'modified_571201793_person.bmp', 'person'), ('original_235051374.bmp', 'modified_235051374_part.bmp', 'part'), ('original_67133472.bmp', 'modified_67133472_point.bmp', 'point'), ('original_38307609.bmp', 'modified_38307609_time.bmp', 'time'), ('original_925767419.bmp', 'modified_925767419_government.bmp', 'government'), ('original_270484229.bmp', 'modified_270484229_point.bmp', 'point'), ('original_989472614.bmp', 'modified_989472614_child.bmp', 'child'), ('original_295909403.bmp', 'modified_295909403_week.bmp', 'week'), ('original_409408760.bmp', 'modified_409408760_number.bmp', 'number'), ('original_556672812.bmp', 'modified_556672812_woman.bmp', 'woman'), ('original_361803917.bmp', 'modified_361803917_way.bmp', 'way'), ('original_871534657.bmp', 'modified_871534657_point.bmp', 'point'), ('original_262417685.bmp', 'modified_262417685_child.bmp', 'child'), ('original_163479895.bmp', 'modified_163479895_case.bmp', 'case'), ('original_598452317.bmp', 'modified_598452317_person.bmp', 'person'), ('original_437348779.bmp', 'modified_437348779_hand.bmp', 'hand'), ('original_498704546.bmp', 'modified_498704546_point.bmp', 'point'), ('original_131351840.bmp', 'modified_131351840_child.bmp', 'child'), ('original_386823249.bmp', 'modified_386823249_company.bmp', 'company'), ('original_745472429.bmp', 'modified_745472429_week.bmp', 'week'), ('original_388320000.bmp', 'modified_388320000_problem.bmp', 'problem'), ('original_48024295.bmp', 'modified_48024295_case.bmp', 'case'), ('original_357945481.bmp', 'modified_357945481_person.bmp', 'person'), ('original_655711690.bmp', 'modified_655711690_problem.bmp', 'problem'), ('original_807938471.bmp', 'modified_807938471_place.bmp', 'place'), ('original_182833464.bmp', 'modified_182833464_woman.bmp', 'woman'), ('original_492023530.bmp', 'modified_492023530_company.bmp', 'company'), ('original_854748413.bmp', 'modified_854748413_thing.bmp', 'thing'), ('original_618467630.bmp', 'modified_618467630_time.bmp', 'time'), ('original_567782290.bmp', 'modified_567782290_group.bmp', 'group'), ('original_896889848.bmp', 'modified_896889848_case.bmp', 'case'), ('original_4249533.bmp', 'modified_4249533_problem.bmp', 'problem'), ('original_913871039.bmp', 'modified_913871039_week.bmp', 'week'), ('original_390258550.bmp', 'modified_390258550_eye.bmp', 'eye'), ('original_438409917.bmp', 'modified_438409917_work.bmp', 'work'), ('original_151426884.bmp', 'modified_151426884_place.bmp', 'place'), ('original_102961711.bmp', 'modified_102961711_government.bmp', 'government'), ('original_370952905.bmp', 'modified_370952905_case.bmp', 'case'), ('original_928780924.bmp', 'modified_928780924_work.bmp', 'work'), ('original_262030019.bmp', 'modified_262030019_point.bmp', 'point'), ('original_279583816.bmp', 'modified_279583816_number.bmp', 'number'), ('original_979422709.bmp', 'modified_979422709_hand.bmp', 'hand'), ('original_948397985.bmp', 'modified_948397985_point.bmp', 'point'), ('original_575976581.bmp', 'modified_575976581_week.bmp', 'week'), ('original_854321545.bmp', 'modified_854321545_government.bmp', 'government'), ('original_629177030.bmp', 'modified_629177030_child.bmp', 'child'), ('original_434809976.bmp', 'modified_434809976_group.bmp', 'group'), ('original_521203284.bmp', 'modified_521203284_government.bmp', 'government'), ('original_64379179.bmp', 'modified_64379179_place.bmp', 'place'), ('original_355651938.bmp', 'modified_355651938_world.bmp', 'world'), ('original_218665877.bmp', 'modified_218665877_child.bmp', 'child'), ('original_139068404.bmp', 'modified_139068404_group.bmp', 'group'), ('original_194929200.bmp', 'modified_194929200_place.bmp', 'place'), ('original_783956504.bmp', 'modified_783956504_world.bmp', 'world'), ('original_872724071.bmp', 'modified_872724071_work.bmp', 'work'), ('original_799153431.bmp', 'modified_799153431_hand.bmp', 'hand'), ('original_294152978.bmp', 'modified_294152978_way.bmp', 'way'), ('original_123339034.bmp', 'modified_123339034_group.bmp', 'group'), ('original_779292885.bmp', 'modified_779292885_child.bmp', 'child'), ('original_453906147.bmp', 'modified_453906147_work.bmp', 'work'), ('original_77635750.bmp', 'modified_77635750_year.bmp', 'year'), ('original_605326585.bmp', 'modified_605326585_world.bmp', 'world'), ('original_199952597.bmp', 'modified_199952597_thing.bmp', 'thing'), ('original_771462646.bmp', 'modified_771462646_part.bmp', 'part'), ('original_895273325.bmp', 'modified_895273325_week.bmp', 'week'), ('original_697771524.bmp', 'modified_697771524_year.bmp', 'year'), ('original_792043262.bmp', 'modified_792043262_government.bmp', 'government'), ('original_100620761.bmp', 'modified_100620761_woman.bmp', 'woman'), ('original_645801041.bmp', 'modified_645801041_work.bmp', 'work'), ('original_479724582.bmp', 'modified_479724582_woman.bmp', 'woman'), ('original_822014648.bmp', 'modified_822014648_life.bmp', 'life'), ('original_450753237.bmp', 'modified_450753237_child.bmp', 'child'), ('original_168125053.bmp', 'modified_168125053_government.bmp', 'government'), ('original_286083942.bmp', 'modified_286083942_person.bmp', 'person'), ('original_974561101.bmp', 'modified_974561101_thing.bmp', 'thing'), ('original_406512233.bmp', 'modified_406512233_world.bmp', 'world'), ('original_143277410.bmp', 'modified_143277410_group.bmp', 'group'), ('original_115921605.bmp', 'modified_115921605_work.bmp', 'work'), ('original_820576026.bmp', 'modified_820576026_work.bmp', 'work'), ('original_899681694.bmp', 'modified_899681694_man.bmp', 'man'), ('original_393034917.bmp', 'modified_393034917_place.bmp', 'place'), ('original_12179896.bmp', 'modified_12179896_work.bmp', 'work'), ('original_758348660.bmp', 'modified_758348660_thing.bmp', 'thing'), ('original_44753084.bmp', 'modified_44753084_government.bmp', 'government'), ('original_707157907.bmp', 'modified_707157907_company.bmp', 'company'), ('original_82166715.bmp', 'modified_82166715_work.bmp', 'work'), ('original_670763301.bmp', 'modified_670763301_time.bmp', 'time'), ('original_745740922.bmp', 'modified_745740922_man.bmp', 'man'), ('original_567223778.bmp', 'modified_567223778_problem.bmp', 'problem'), ('original_834482611.bmp', 'modified_834482611_thing.bmp', 'thing'), ('original_194281833.bmp', 'modified_194281833_hand.bmp', 'hand'), ('original_136128040.bmp', 'modified_136128040_number.bmp', 'number'), ('original_85153196.bmp', 'modified_85153196_woman.bmp', 'woman'), ('original_273909346.bmp', 'modified_273909346_part.bmp', 'part'), ('original_307810780.bmp', 'modified_307810780_part.bmp', 'part'), ('original_134213183.bmp', 'modified_134213183_person.bmp', 'person'), ('original_7491332.bmp', 'modified_7491332_life.bmp', 'life'), ('original_18973166.bmp', 'modified_18973166_child.bmp', 'child'), ('original_498732298.bmp', 'modified_498732298_case.bmp', 'case'), ('original_158339835.bmp', 'modified_158339835_way.bmp', 'way'), ('original_947186945.bmp', 'modified_947186945_time.bmp', 'time'), ('original_160076464.bmp', 'modified_160076464_year.bmp', 'year'), ('original_938138191.bmp', 'modified_938138191_man.bmp', 'man'), ('original_187355131.bmp', 'modified_187355131_year.bmp', 'year'), ('original_935567424.bmp', 'modified_935567424_hand.bmp', 'hand'), ('original_661720557.bmp', 'modified_661720557_government.bmp', 'government'), ('original_757015852.bmp', 'modified_757015852_point.bmp', 'point'), ('original_855498011.bmp', 'modified_855498011_day.bmp', 'day'), ('original_392714835.bmp', 'modified_392714835_work.bmp', 'work'), ('original_340763101.bmp', 'modified_340763101_number.bmp', 'number'), ('original_234794165.bmp', 'modified_234794165_child.bmp', 'child'), ('original_168109665.bmp', 'modified_168109665_day.bmp', 'day'), ('original_5704145.bmp', 'modified_5704145_company.bmp', 'company'), ('original_884467978.bmp', 'modified_884467978_government.bmp', 'government'), ('original_875354085.bmp', 'modified_875354085_woman.bmp', 'woman'), ('original_792308937.bmp', 'modified_792308937_company.bmp', 'company'), ('original_47281086.bmp', 'modified_47281086_government.bmp', 'government'), ('original_290291646.bmp', 'modified_290291646_place.bmp', 'place'), ('original_897481525.bmp', 'modified_897481525_child.bmp', 'child'), ('original_575550643.bmp', 'modified_575550643_government.bmp', 'government'), ('original_499731630.bmp', 'modified_499731630_thing.bmp', 'thing'), ('original_548820716.bmp', 'modified_548820716_company.bmp', 'company'), ('original_615175540.bmp', 'modified_615175540_fact.bmp', 'fact'), ('original_582400794.bmp', 'modified_582400794_day.bmp', 'day'), ('original_801738879.bmp', 'modified_801738879_group.bmp', 'group'), ('original_581959021.bmp', 'modified_581959021_world.bmp', 'world'), ('original_852263140.bmp', 'modified_852263140_life.bmp', 'life'), ('original_288934021.bmp', 'modified_288934021_week.bmp', 'week'), ('original_521531265.bmp', 'modified_521531265_person.bmp', 'person'), ('original_42328095.bmp', 'modified_42328095_number.bmp', 'number'), ('original_918000587.bmp', 'modified_918000587_part.bmp', 'part'), ('original_209549636.bmp', 'modified_209549636_eye.bmp', 'eye'), ('original_104534626.bmp', 'modified_104534626_work.bmp', 'work'), ('original_736703168.bmp', 'modified_736703168_fact.bmp', 'fact'), ('original_824508269.bmp', 'modified_824508269_day.bmp', 'day'), ('original_322456676.bmp', 'modified_322456676_point.bmp', 'point'), ('original_144611247.bmp', 'modified_144611247_life.bmp', 'life'), ('original_724149613.bmp', 'modified_724149613_eye.bmp', 'eye'), ('original_488211700.bmp', 'modified_488211700_person.bmp', 'person'), ('original_100351981.bmp', 'modified_100351981_point.bmp', 'point'), ('original_127187832.bmp', 'modified_127187832_time.bmp', 'time'), ('original_596092907.bmp', 'modified_596092907_group.bmp', 'group'), ('original_661059834.bmp', 'modified_661059834_thing.bmp', 'thing'), ('original_370999724.bmp', 'modified_370999724_life.bmp', 'life'), ('original_571248205.bmp', 'modified_571248205_group.bmp', 'group'), ('original_607260059.bmp', 'modified_607260059_way.bmp', 'way'), ('original_586238278.bmp', 'modified_586238278_case.bmp', 'case'), ('original_347771052.bmp', 'modified_347771052_part.bmp', 'part'), ('original_37475578.bmp', 'modified_37475578_company.bmp', 'company'), ('original_47664094.bmp', 'modified_47664094_way.bmp', 'way'), ('original_172627973.bmp', 'modified_172627973_part.bmp', 'part'), ('original_599835656.bmp', 'modified_599835656_week.bmp', 'week'), ('original_958490365.bmp', 'modified_958490365_point.bmp', 'point'), ('original_31044974.bmp', 'modified_31044974_woman.bmp', 'woman'), ('original_486181137.bmp', 'modified_486181137_company.bmp', 'company'), ('original_670905888.bmp', 'modified_670905888_point.bmp', 'point'), ('original_57246107.bmp', 'modified_57246107_hand.bmp', 'hand'), ('original_808957282.bmp', 'modified_808957282_eye.bmp', 'eye'), ('original_824978580.bmp', 'modified_824978580_hand.bmp', 'hand'), ('original_450750674.bmp', 'modified_450750674_world.bmp', 'world'), ('original_237334425.bmp', 'modified_237334425_group.bmp', 'group'), ('original_803209091.bmp', 'modified_803209091_time.bmp', 'time'), ('original_972906470.bmp', 'modified_972906470_way.bmp', 'way'), ('original_554878948.bmp', 'modified_554878948_man.bmp', 'man'), ('original_904482868.bmp', 'modified_904482868_group.bmp', 'group'), ('original_287503894.bmp', 'modified_287503894_place.bmp', 'place'), ('original_75631688.bmp', 'modified_75631688_way.bmp', 'way'), ('original_10721260.bmp', 'modified_10721260_case.bmp', 'case'), ('original_555709072.bmp', 'modified_555709072_fact.bmp', 'fact'), ('original_897841839.bmp', 'modified_897841839_group.bmp', 'group'), ('original_840859366.bmp', 'modified_840859366_day.bmp', 'day'), ('original_336440601.bmp', 'modified_336440601_fact.bmp', 'fact'), ('original_144296125.bmp', 'modified_144296125_number.bmp', 'number'), ('original_673083584.bmp', 'modified_673083584_company.bmp', 'company'), ('original_88029796.bmp', 'modified_88029796_way.bmp', 'way'), ('original_323787519.bmp', 'modified_323787519_time.bmp', 'time'), ('original_254924320.bmp', 'modified_254924320_part.bmp', 'part'), ('original_65650070.bmp', 'modified_65650070_case.bmp', 'case'), ('original_941532528.bmp', 'modified_941532528_problem.bmp', 'problem'), ('original_649484850.bmp', 'modified_649484850_week.bmp', 'week'), ('original_960538904.bmp', 'modified_960538904_point.bmp', 'point'), ('original_470081478.bmp', 'modified_470081478_year.bmp', 'year'), ('original_326494989.bmp', 'modified_326494989_week.bmp', 'week'), ('original_859965958.bmp', 'modified_859965958_woman.bmp', 'woman'), ('original_886376221.bmp', 'modified_886376221_life.bmp', 'life'), ('original_47340311.bmp', 'modified_47340311_company.bmp', 'company'), ('original_317623128.bmp', 'modified_317623128_week.bmp', 'week'), ('original_50323740.bmp', 'modified_50323740_child.bmp', 'child'), ('original_161379749.bmp', 'modified_161379749_eye.bmp', 'eye'), ('original_495706673.bmp', 'modified_495706673_part.bmp', 'part'), ('original_613197041.bmp', 'modified_613197041_company.bmp', 'company'), ('original_572861894.bmp', 'modified_572861894_part.bmp', 'part'), ('original_319351039.bmp', 'modified_319351039_eye.bmp', 'eye'), ('original_312405593.bmp', 'modified_312405593_time.bmp', 'time'), ('original_841732854.bmp', 'modified_841732854_man.bmp', 'man'), ('original_588493764.bmp', 'modified_588493764_child.bmp', 'child'), ('original_388852103.bmp', 'modified_388852103_life.bmp', 'life'), ('original_745081231.bmp', 'modified_745081231_life.bmp', 'life'), ('original_891816494.bmp', 'modified_891816494_year.bmp', 'year'), ('original_855981461.bmp', 'modified_855981461_work.bmp', 'work'), ('original_68868840.bmp', 'modified_68868840_government.bmp', 'government'), ('original_933208283.bmp', 'modified_933208283_fact.bmp', 'fact'), ('original_493099658.bmp', 'modified_493099658_eye.bmp', 'eye'), ('original_81437778.bmp', 'modified_81437778_problem.bmp', 'problem'), ('original_216206526.bmp', 'modified_216206526_point.bmp', 'point'), ('original_792372751.bmp', 'modified_792372751_hand.bmp', 'hand'), ('original_750263535.bmp', 'modified_750263535_work.bmp', 'work'), ('original_425363968.bmp', 'modified_425363968_woman.bmp', 'woman'), ('original_224479009.bmp', 'modified_224479009_point.bmp', 'point'), ('original_285378807.bmp', 'modified_285378807_part.bmp', 'part'), ('original_368493551.bmp', 'modified_368493551_work.bmp', 'work'), ('original_427010428.bmp', 'modified_427010428_way.bmp', 'way'), ('original_42089823.bmp', 'modified_42089823_man.bmp', 'man'), ('original_848168074.bmp', 'modified_848168074_company.bmp', 'company'), ('original_206504210.bmp', 'modified_206504210_government.bmp', 'government'), ('original_713384218.bmp', 'modified_713384218_fact.bmp', 'fact'), ('original_346180430.bmp', 'modified_346180430_number.bmp', 'number'), ('original_228337413.bmp', 'modified_228337413_case.bmp', 'case'), ('original_878183180.bmp', 'modified_878183180_week.bmp', 'week'), ('original_863890622.bmp', 'modified_863890622_point.bmp', 'point'), ('original_874990593.bmp', 'modified_874990593_day.bmp', 'day'), ('original_688659398.bmp', 'modified_688659398_day.bmp', 'day'), ('original_660538103.bmp', 'modified_660538103_number.bmp', 'number'), ('original_139419277.bmp', 'modified_139419277_company.bmp', 'company'), ('original_468824783.bmp', 'modified_468824783_person.bmp', 'person'), ('original_891102202.bmp', 'modified_891102202_company.bmp', 'company')]\n"
          ]
        }
      ]
    },
    {
      "cell_type": "code",
      "source": [
        "len(result ) , len(files_dict.keys())"
      ],
      "metadata": {
        "colab": {
          "base_uri": "https://localhost:8080/"
        },
        "id": "my2qxIEiRafl",
        "outputId": "2daee4f6-5c53-4c1f-dbaf-4d567b1a2b28"
      },
      "execution_count": null,
      "outputs": [
        {
          "output_type": "execute_result",
          "data": {
            "text/plain": [
              "(1000, 2000)"
            ]
          },
          "metadata": {},
          "execution_count": 15
        }
      ]
    },
    {
      "cell_type": "code",
      "source": [
        "for i , (orig , modif , fraze) in enumerate(result) :\n",
        "    result[i] = (files_dict[orig] , files_dict[modif] , fraze)"
      ],
      "metadata": {
        "id": "5yjrlrWUOgel"
      },
      "execution_count": null,
      "outputs": []
    },
    {
      "cell_type": "code",
      "source": [
        "result[20][0].shape , result[20][0][0]"
      ],
      "metadata": {
        "colab": {
          "base_uri": "https://localhost:8080/"
        },
        "id": "IDJPI2lwTQjf",
        "outputId": "a0731b12-247e-4c81-b1e9-e7a8f68b67c3"
      },
      "execution_count": null,
      "outputs": [
        {
          "output_type": "execute_result",
          "data": {
            "text/plain": [
              "((64, 64),\n",
              " array([136, 138, 148, 141, 127, 131, 142, 139, 142, 144, 139, 139, 144,\n",
              "        138, 134, 139, 139, 136, 133, 137, 142, 137, 137, 152, 157, 101,\n",
              "         10,   3,   7,   4,   8,   9,  12,  10,   6,   4,  20,  67,  79,\n",
              "         33,   9,  15,  34,  64,  76,  77,  73,  79,  93, 104,  94, 106,\n",
              "        134,  93,  20,   3,  13,  20,  21,  28,  26,  29,  33,  32],\n",
              "       dtype=uint8))"
            ]
          },
          "metadata": {},
          "execution_count": 17
        }
      ]
    },
    {
      "cell_type": "code",
      "source": [
        "def phrase_to_vector(phrase):\n",
        "    alphabet = {chr(i): i - ord('a') + 1 for i in range(ord('a'), ord('z') + 1)}\n",
        "    phrase = phrase.lower()\n",
        "    vector = []\n",
        "    for char in phrase:\n",
        "        if char.isalpha():\n",
        "            vector.append(alphabet[char] - 1)\n",
        "        else:\n",
        "            pass\n",
        "\n",
        "    return vector\n",
        "\n",
        "phrase = \"abcdz\"\n",
        "vector = phrase_to_vector(phrase)\n",
        "print(vector)\n",
        "\n",
        "def vector_to_phrase(vector ) :\n",
        "    alphabet = {i - ord('a') : chr(i)  for i in range(ord('a'), ord('z') + 1)}\n",
        "    phrase = []\n",
        "    for idx in vector:\n",
        "        phrase.append(alphabet[idx] )\n",
        "    return phrase\n",
        "\n",
        "vector = [0,1,2,3,25]\n",
        "phrase = vector_to_phrase(vector)\n",
        "print(phrase)"
      ],
      "metadata": {
        "colab": {
          "base_uri": "https://localhost:8080/"
        },
        "id": "VQxbuhlSSamx",
        "outputId": "9ccdadb2-c4b2-40d2-8bc3-8e52d06909f1"
      },
      "execution_count": null,
      "outputs": [
        {
          "output_type": "stream",
          "name": "stdout",
          "text": [
            "[0, 1, 2, 3, 25]\n",
            "['a', 'b', 'c', 'd', 'z']\n"
          ]
        }
      ]
    },
    {
      "cell_type": "code",
      "source": [
        "import numpy as np"
      ],
      "metadata": {
        "id": "7thYB8vxWUDy"
      },
      "execution_count": null,
      "outputs": []
    },
    {
      "cell_type": "code",
      "source": [
        "def get_full_vector(fraze , image) :\n",
        "    if len(fraze) < len(image) :\n",
        "        new_vector = np.zeros(len(image))\n",
        "        for i in range(len(image)) :\n",
        "            new_vector[i] = fraze[i % len(fraze)]\n",
        "    return new_vector"
      ],
      "metadata": {
        "id": "G_3vH0D3VZUm"
      },
      "execution_count": null,
      "outputs": []
    },
    {
      "cell_type": "code",
      "source": [
        "vectorized = []\n",
        "for i , (orig , modif , fraze) in enumerate(result) :\n",
        "    vectorized.append((orig.flatten() , modif.flatten() , phrase_to_vector(fraze)))"
      ],
      "metadata": {
        "id": "qxmikSL-SAYx"
      },
      "execution_count": null,
      "outputs": []
    },
    {
      "cell_type": "code",
      "source": [
        "full_vectors = []\n",
        "for i , (orig , modif , fraze) in enumerate(vectorized) :\n",
        "    full_vectors.append(get_full_vector(fraze , orig ))"
      ],
      "metadata": {
        "id": "sRBYncnFWI90"
      },
      "execution_count": null,
      "outputs": []
    },
    {
      "cell_type": "code",
      "source": [
        "k = 5\n",
        "original = vectorized[k][0]\n",
        "modified = vectorized[k][1]\n",
        "vector = full_vectors[k]\n",
        "\n",
        "print(original[:100] - modified[:100] , vector[:100])"
      ],
      "metadata": {
        "colab": {
          "base_uri": "https://localhost:8080/"
        },
        "id": "yZcNOmEQW4t9",
        "outputId": "f3152295-0f4b-433d-bcbf-08de33051003"
      },
      "execution_count": null,
      "outputs": [
        {
          "output_type": "stream",
          "name": "stdout",
          "text": [
            "[  0   1   0   1 255 255   2   1   0 255 254   0   0 253   0 255   4   2\n",
            "   1   0   0 254   1 254   6   0 255   0 255   0   4 255   1   0   0   0\n",
            "   2   0   0 255 255   0   1   2   0   0 255   0   0   1   1 254   0   0\n",
            " 255   0 254   0   0   0 255 254   1   1 254   1   0   0 255 255   0 255\n",
            "   3   1 255   0   2   0   0 255 255   0   0   0   0   0   0   0   0   2\n",
            "   1   0   0 255   1   4   0   0   0 255] [ 2.  7.  8. 11.  3.  2.  7.  8. 11.  3.  2.  7.  8. 11.  3.  2.  7.  8.\n",
            " 11.  3.  2.  7.  8. 11.  3.  2.  7.  8. 11.  3.  2.  7.  8. 11.  3.  2.\n",
            "  7.  8. 11.  3.  2.  7.  8. 11.  3.  2.  7.  8. 11.  3.  2.  7.  8. 11.\n",
            "  3.  2.  7.  8. 11.  3.  2.  7.  8. 11.  3.  2.  7.  8. 11.  3.  2.  7.\n",
            "  8. 11.  3.  2.  7.  8. 11.  3.  2.  7.  8. 11.  3.  2.  7.  8. 11.  3.\n",
            "  2.  7.  8. 11.  3.  2.  7.  8. 11.  3.]\n"
          ]
        }
      ]
    },
    {
      "cell_type": "markdown",
      "source": [
        "* Найдем парметры белого шума (с удовлетворительной точностью) - пройдемся по всем векторам и посчитаем среднее и дисперсию (те случаи где используется фраза - не сильно повлияют , так как их всего 1 процент)"
      ],
      "metadata": {
        "id": "A6XyQclc8Vre"
      }
    },
    {
      "cell_type": "code",
      "source": [
        "mean = 0\n",
        "std = 0\n",
        "stds = []\n",
        "for k in range(len(vectorized)) :\n",
        "    original = np.array(vectorized[k][0], dtype = np.float64)\n",
        "    modified = np.array(vectorized[k][1] , dtype = np.float64)\n",
        "    vector = full_vectors[k]\n",
        "    curr_mean = np.mean(original - modified)\n",
        "    mean += np.mean(original - modified)\n",
        "    stds.append(np.sqrt(np.mean((original - modified)**2)))\n",
        "    std += np.sqrt(np.mean((original - modified -curr_mean )**2))\n",
        "mean = mean / len(vectorized)\n",
        "std = std / len(vectorized)\n",
        "print(mean , std)"
      ],
      "metadata": {
        "colab": {
          "base_uri": "https://localhost:8080/"
        },
        "id": "I8Dd-Op78VdX",
        "outputId": "f6df9d9c-ebcb-408b-a331-21f9311bfac0"
      },
      "execution_count": null,
      "outputs": [
        {
          "output_type": "stream",
          "name": "stdout",
          "text": [
            "-0.28775048828125 1.5392820139061063\n"
          ]
        }
      ]
    },
    {
      "cell_type": "code",
      "source": [
        "plt.plot(sorted(stds)[-11:])\n",
        "plt.title('Те самые 1 % объектов, которые закодированы (10/1000)')\n",
        "plt.show()"
      ],
      "metadata": {
        "colab": {
          "base_uri": "https://localhost:8080/",
          "height": 452
        },
        "id": "mu1sz3XPCE2x",
        "outputId": "b87c593b-dc2d-49af-aba7-d4e43fde6773"
      },
      "execution_count": null,
      "outputs": [
        {
          "output_type": "display_data",
          "data": {
            "text/plain": [
              "<Figure size 640x480 with 1 Axes>"
            ],
            "image/png": "[encoded data removed]"
          },
          "metadata": {}
        }
      ]
    },
    {
      "cell_type": "code",
      "source": [
        "indices = np.argsort(stds)[-10:]"
      ],
      "metadata": {
        "id": "v_9fWruKDF7n"
      },
      "execution_count": null,
      "outputs": []
    },
    {
      "cell_type": "code",
      "source": [
        "indices"
      ],
      "metadata": {
        "colab": {
          "base_uri": "https://localhost:8080/"
        },
        "id": "34T4XTl9DLom",
        "outputId": "71c30197-961d-47ce-bcd2-ce596fd9c3a7"
      },
      "execution_count": null,
      "outputs": [
        {
          "output_type": "execute_result",
          "data": {
            "text/plain": [
              "array([ 56, 198, 147,  33, 636, 544, 427, 774, 924, 850])"
            ]
          },
          "metadata": {},
          "execution_count": 78
        }
      ]
    },
    {
      "cell_type": "code",
      "source": [
        "modification_with_fraze = []\n",
        "for k in indices :\n",
        "    original = np.array(vectorized[k][0], dtype = np.float64)\n",
        "    modified = np.array(vectorized[k][1] , dtype = np.float64)\n",
        "    vector = full_vectors[k]\n",
        "    modification_with_fraze.append((original , modified , vector))\n",
        "print(len(modification_with_fraze) / len(vectorized))"
      ],
      "metadata": {
        "colab": {
          "base_uri": "https://localhost:8080/"
        },
        "id": "2S5g4PEz7439",
        "outputId": "afa47fd6-f1a3-4321-a583-039337f3438c"
      },
      "execution_count": null,
      "outputs": [
        {
          "output_type": "stream",
          "name": "stdout",
          "text": [
            "0.01\n"
          ]
        }
      ]
    },
    {
      "cell_type": "code",
      "source": [
        "alpha = 0\n",
        "for k in range(len(modification_with_fraze)) :\n",
        "    original = modification_with_fraze[k][0]\n",
        "    modified = modification_with_fraze[k][1]\n",
        "    vector = modification_with_fraze[k][2]\n",
        "    delta = - original + modified + mean\n",
        "    alpha_k = 0\n",
        "    for j in range(len(delta))  :\n",
        "        if vector[j] != 0 :\n",
        "            alpha_k += (delta[j]/vector[j])/np.sum(vector!=0)\n",
        "    print(alpha_k)\n",
        "    alpha += alpha_k\n",
        "alpha /= len(modification_with_fraze)\n",
        "print(alpha)"
      ],
      "metadata": {
        "colab": {
          "base_uri": "https://localhost:8080/"
        },
        "id": "cbVoM9cmDaxS",
        "outputId": "80315b25-3dc5-409a-e010-71ee0be7bdb4"
      },
      "execution_count": 235,
      "outputs": [
        {
          "output_type": "stream",
          "name": "stdout",
          "text": [
            "3.0860776841598234\n",
            "3.082475500210961\n",
            "3.100496962391365\n",
            "3.0848153098529023\n",
            "3.063266037040853\n",
            "3.0687913248697987\n",
            "3.0439188982867194\n",
            "3.0983746991904764\n",
            "3.1132692531296104\n",
            "3.111332467788391\n",
            "3.08528181369209\n"
          ]
        }
      ]
    },
    {
      "cell_type": "code",
      "source": [
        "test_original = np.array(control['original_test.bmp'].flatten() , dtype = np.float64)\n",
        "test_modified = np.array(control['modified_test.bmp'].flatten() , dtype = np.float64)"
      ],
      "metadata": {
        "id": "lfMFopk9T9Zc"
      },
      "execution_count": 236,
      "outputs": []
    },
    {
      "cell_type": "markdown",
      "source": [
        "* Избавимся от шума , который оценили по данным ранее (вычтем mean)"
      ],
      "metadata": {
        "id": "SFonFbPsI-cy"
      }
    },
    {
      "cell_type": "code",
      "source": [
        "delta = - test_original + test_modified - mean\n",
        "frazed_vector = delta / 3.11"
      ],
      "metadata": {
        "id": "PDgFE38wEcEw"
      },
      "execution_count": 237,
      "outputs": []
    },
    {
      "cell_type": "markdown",
      "source": [
        "* приведем в int и отобразим в пространство букв"
      ],
      "metadata": {
        "id": "WwGuntWSFR6v"
      }
    },
    {
      "cell_type": "code",
      "source": [
        "frazed_vector[:15]"
      ],
      "metadata": {
        "colab": {
          "base_uri": "https://localhost:8080/"
        },
        "id": "00GKBjKLG1Zt",
        "outputId": "1280d933-dec6-418c-d1d0-beb7d15ff5bc"
      },
      "execution_count": 238,
      "outputs": [
        {
          "output_type": "execute_result",
          "data": {
            "text/plain": [
              "array([22.27901945,  7.16647926,  4.27258858, 17.13432492,  4.27258858,\n",
              "       18.09895514, 19.38512877,  7.16647926,  4.27258858, 12.31117379,\n",
              "       14.24043424, 13.27580402,  4.27258858, 24.2082799 , 11.34654357])"
            ]
          },
          "metadata": {},
          "execution_count": 238
        }
      ]
    },
    {
      "cell_type": "code",
      "source": [
        "int_vector =  list(map( lambda y : int(y) ,frazed_vector))"
      ],
      "metadata": {
        "id": "L4ZrWhXPHp1t"
      },
      "execution_count": 239,
      "outputs": []
    },
    {
      "cell_type": "code",
      "source": [
        "int_vector[:15]"
      ],
      "metadata": {
        "colab": {
          "base_uri": "https://localhost:8080/"
        },
        "id": "djNsJG20Hvf2",
        "outputId": "291f0fb4-0cc0-442a-cb96-98e41a91f203"
      },
      "execution_count": 240,
      "outputs": [
        {
          "output_type": "execute_result",
          "data": {
            "text/plain": [
              "[22, 7, 4, 17, 4, 18, 19, 7, 4, 12, 14, 13, 4, 24, 11]"
            ]
          },
          "metadata": {},
          "execution_count": 240
        }
      ]
    },
    {
      "cell_type": "code",
      "source": [
        "''.join(vector_to_phrase(int_vector)[:25])"
      ],
      "metadata": {
        "colab": {
          "base_uri": "https://localhost:8080/",
          "height": 35
        },
        "id": "cCnqrdp2FRZf",
        "outputId": "a4cc2a42-47b1-4ed6-e650-4f7c7a44bc92"
      },
      "execution_count": 241,
      "outputs": [
        {
          "output_type": "execute_result",
          "data": {
            "text/plain": [
              "'wheresthemoneylebowskiwhe'"
            ],
            "application/vnd.google.colaboratory.intrinsic+json": {
              "type": "string"
            }
          },
          "metadata": {},
          "execution_count": 241
        }
      ]
    },
    {
      "cell_type": "markdown",
      "source": [
        "* Ответ: Where is money lebowski ????"
      ],
      "metadata": {
        "id": "mFi-Ds7YJJki"
      }
    },
    {
      "cell_type": "markdown",
      "source": [
        "# Задача 2.2.\n",
        "Требуется построить авторегрессионную модель (autoregressive moving-average model, ARMA) для данных предложенных в приложении.\n",
        "\n",
        "\n",
        "https://github.com/andriygav/PSAD/blob/master/labs/lab2/data/2.1.csv\n",
        "\n",
        "Записать задачу формально;\n",
        "Выписать все формулы аналитически;\n",
        "Провести вычисления всех параметров модели аналитически.\n",
        "UPD: параметры p и q для ARMA можно оценить при помощи компьютера.\n",
        "\n",
        "Все выкладки должны быть сделаны аналитически, без использования компьютера. Дополнительно к слайдам про ARMA можно почитать здесь.\n",
        "\n"
      ],
      "metadata": {
        "id": "XfgebasYhvTs"
      }
    },
    {
      "cell_type": "markdown",
      "source": [
        "* ARMA - линейная регрессия , где в качестве признаков используются предыдщие p значений и q независимых остатков в сумме."
      ],
      "metadata": {
        "id": "_PyBueSM65lZ"
      }
    },
    {
      "cell_type": "code",
      "source": [
        "import numpy as np\n",
        "import requests\n",
        "from io import StringIO\n",
        "\n",
        "url = \"https://raw.githubusercontent.com/andriygav/PSAD/master/labs/lab2/data/2.2.csv\"\n",
        "\n",
        "response = requests.get(url)\n",
        "data = response.text\n",
        "\n",
        "ts = np.genfromtxt(StringIO(data), delimiter=',')\n",
        "\n"
      ],
      "metadata": {
        "id": "4i6WSqp3hwVj"
      },
      "execution_count": null,
      "outputs": []
    },
    {
      "cell_type": "code",
      "source": [
        "ts = ts[1:]"
      ],
      "metadata": {
        "id": "6xu4EtW2h2xL"
      },
      "execution_count": null,
      "outputs": []
    },
    {
      "cell_type": "code",
      "source": [
        "import matplotlib.pyplot as plt"
      ],
      "metadata": {
        "id": "PX0W5aeoiG0R"
      },
      "execution_count": null,
      "outputs": []
    },
    {
      "cell_type": "code",
      "source": [
        "plt.plot(ts)\n",
        "plt.show()"
      ],
      "metadata": {
        "colab": {
          "base_uri": "https://localhost:8080/",
          "height": 430
        },
        "id": "5EPTkPAJiDpw",
        "outputId": "dc67dd0d-0a2c-425b-e304-cc6d0f839eae"
      },
      "execution_count": null,
      "outputs": [
        {
          "output_type": "display_data",
          "data": {
            "text/plain": [
              "<Figure size 640x480 with 1 Axes>"
            ],
            "image/png": "[encoded data removed]"
          },
          "metadata": {}
        }
      ]
    },
    {
      "cell_type": "code",
      "source": [
        "from statsmodels.tsa.seasonal import seasonal_decompose"
      ],
      "metadata": {
        "id": "oRgMkEZej6Zd"
      },
      "execution_count": null,
      "outputs": []
    },
    {
      "cell_type": "code",
      "source": [
        "result = seasonal_decompose(ts, model='additive', period=15)\n",
        "time = np.arange(0,len(ts),1)\n",
        "plt.figure(figsize=(12, 8))\n",
        "\n",
        "plt.subplot(4, 1, 1)\n",
        "plt.plot(time, ts, label='Исходные данные')\n",
        "plt.legend()\n",
        "\n",
        "plt.subplot(4, 1, 2)\n",
        "plt.plot(time, result.trend, label='Тренд')\n",
        "plt.legend()\n",
        "\n",
        "plt.subplot(4, 1, 3)\n",
        "plt.plot(time, result.seasonal, label='Сезонность')\n",
        "plt.legend()\n",
        "\n",
        "plt.subplot(4, 1, 4)\n",
        "plt.plot(time, result.resid, label='Остатки')\n",
        "plt.legend()\n",
        "\n",
        "plt.tight_layout()\n",
        "plt.show()"
      ],
      "metadata": {
        "colab": {
          "base_uri": "https://localhost:8080/",
          "height": 807
        },
        "id": "8SzHwICuj7ai",
        "outputId": "7ceaf2c1-d33b-437b-c9fd-0ffc3aea9ca6"
      },
      "execution_count": null,
      "outputs": [
        {
          "output_type": "display_data",
          "data": {
            "text/plain": [
              "<Figure size 1200x800 with 4 Axes>"
            ],
            "image/png": "[encoded data removed]"
          },
          "metadata": {}
        }
      ]
    },
    {
      "cell_type": "markdown",
      "source": [
        "* Возьмем p = 15, так как период равный 15 хорошо сглаживает тренд и уничтожает остатки, потому также возьмем q = 0. Раз период 15, то есть зависимость от предыдущих 15 элементов - потому берется p = 15."
      ],
      "metadata": {
        "id": "skMMKf8slBbV"
      }
    },
    {
      "cell_type": "code",
      "source": [
        "from statsmodels.tsa.arima.model import ARIMA"
      ],
      "metadata": {
        "id": "Gi-hVMJ-iZ6O"
      },
      "execution_count": null,
      "outputs": []
    },
    {
      "cell_type": "code",
      "source": [
        "model = ARIMA(ts, order=(15, 0, 0))\n",
        "fit_model = model.fit()\n",
        "\n",
        "forecast = fit_model.forecast(steps=30)\n",
        "\n",
        "plt.plot(ts, label='Исходный ряд')\n",
        "plt.plot(np.arange(len(ts), len(ts) + len(forecast)), forecast, label='Прогноз')\n",
        "plt.xlabel('Временной период')\n",
        "plt.ylabel('Значение')\n",
        "plt.legend()\n",
        "plt.show()"
      ],
      "metadata": {
        "colab": {
          "base_uri": "https://localhost:8080/",
          "height": 487
        },
        "id": "-TzC_VH1ieOZ",
        "outputId": "db317732-b2f8-4d05-cf90-253c49e1929f"
      },
      "execution_count": null,
      "outputs": [
        {
          "output_type": "stream",
          "name": "stderr",
          "text": [
            "/usr/local/lib/python3.10/dist-packages/statsmodels/base/model.py:607: ConvergenceWarning: Maximum Likelihood optimization failed to converge. Check mle_retvals\n",
            "  warnings.warn(\"Maximum Likelihood optimization failed to \"\n"
          ]
        },
        {
          "output_type": "display_data",
          "data": {
            "text/plain": [
              "<Figure size 640x480 with 1 Axes>"
            ],
            "image/png": "[encoded data removed]"
          },
          "metadata": {}
        }
      ]
    },
    {
      "cell_type": "markdown",
      "source": [
        "# Задача 3.1.\n",
        "Выборка: набор предложений на русском языке с указанием частей речи для каждого слова.\n",
        "\n",
        "https://github.com/natasha/nerus\n",
        "\n",
        "Требуется:\n",
        "\n",
        "Рассмотреть последовательность частей речи как марковскую модель. Определить оптимальный порядок марковской модели.\n",
        "Обучить скрытую марковскую модель по выборке. Оценить точность предсказания частей речи, посчитать энтропию на выборке.\n",
        "Важно: в целях ускорения эксперимента рекомендуется взять первые 10 МБ текста из выборки."
      ],
      "metadata": {
        "id": "LGCnkSzch2TD"
      }
    },
    {
      "cell_type": "code",
      "source": [
        "!pip install nerus"
      ],
      "metadata": {
        "colab": {
          "base_uri": "https://localhost:8080/"
        },
        "id": "gk2lrc-tnPB7",
        "outputId": "d0d7534d-acbc-4a27-d05f-f966da3abb48"
      },
      "execution_count": 1,
      "outputs": [
        {
          "output_type": "stream",
          "name": "stdout",
          "text": [
            "Collecting nerus\n",
            "  Downloading nerus-1.7.0-py3-none-any.whl (15 kB)\n",
            "Installing collected packages: nerus\n",
            "Successfully installed nerus-1.7.0\n"
          ]
        }
      ]
    },
    {
      "cell_type": "code",
      "source": [
        "import urllib.request\n",
        "import gzip\n",
        "import shutil\n",
        "import os\n",
        "\n",
        "# URL для загрузки датасета\n",
        "url = \"https://storage.yandexcloud.net/natasha-nerus/data/nerus_lenta.conllu.gz\"\n",
        "# Имя файла для сохранения\n",
        "filename = \"nerus_lenta.conllu.gz\"\n",
        "\n",
        "# Загрузка файла\n",
        "print(\"Загрузка файла...\")\n",
        "urllib.request.urlretrieve(url, filename)\n",
        "\n"
      ],
      "metadata": {
        "id": "p_YrR7MSh3RX",
        "colab": {
          "base_uri": "https://localhost:8080/"
        },
        "outputId": "217f57b5-e432-44dc-fd35-50fbfb368d64"
      },
      "execution_count": 2,
      "outputs": [
        {
          "output_type": "stream",
          "name": "stdout",
          "text": [
            "Загрузка файла...\n"
          ]
        },
        {
          "output_type": "execute_result",
          "data": {
            "text/plain": [
              "('nerus_lenta.conllu.gz', <http.client.HTTPMessage at 0x7e9944918790>)"
            ]
          },
          "metadata": {},
          "execution_count": 2
        }
      ]
    },
    {
      "cell_type": "code",
      "source": [
        "!gunzip -c nerus_lenta.conllu.gz | head"
      ],
      "metadata": {
        "colab": {
          "base_uri": "https://localhost:8080/"
        },
        "id": "RfhwqmS8rdg1",
        "outputId": "3f6d5c61-e4f7-4bbe-8dd6-9cc6738534ad"
      },
      "execution_count": 3,
      "outputs": [
        {
          "output_type": "stream",
          "name": "stdout",
          "text": [
            "# newdoc id = 0\n",
            "# sent_id = 0_0\n",
            "# text = Вице-премьер по социальным вопросам Татьяна Голикова рассказала, в каких регионах России зафиксирована наиболее высокая смертность от рака, сообщает РИА Новости.\n",
            "1\tВице-премьер\t_\tNOUN\t_\tAnimacy=Anim|Case=Nom|Gender=Masc|Number=Sing\t7\tnsubj\t_\tTag=O\n",
            "2\tпо\t_\tADP\t_\t_\t4\tcase\t_\tTag=O\n",
            "3\tсоциальным\t_\tADJ\t_\tCase=Dat|Degree=Pos|Number=Plur\t4\tamod\t_\tTag=O\n",
            "4\tвопросам\t_\tNOUN\t_\tAnimacy=Inan|Case=Dat|Gender=Masc|Number=Plur\t1\tnmod\t_\tTag=O\n",
            "5\tТатьяна\t_\tPROPN\t_\tAnimacy=Anim|Case=Nom|Gender=Fem|Number=Sing\t1\tappos\t_\tTag=B-PER\n",
            "6\tГоликова\t_\tPROPN\t_\tAnimacy=Anim|Case=Nom|Gender=Fem|Number=Sing\t5\tflat:name\t_\tTag=I-PER\n",
            "7\tрассказала\t_\tVERB\t_\tAspect=Perf|Gender=Fem|Mood=Ind|Number=Sing|Tense=Past|VerbForm=Fin|Voice=Act\t0\troot\t_\tTag=O\n"
          ]
        }
      ]
    },
    {
      "cell_type": "code",
      "source": [
        "from nerus import load_nerus\n",
        "NERUS = 'nerus_lenta.conllu.gz'"
      ],
      "metadata": {
        "id": "s8gkQisWPJmi"
      },
      "execution_count": 4,
      "outputs": []
    },
    {
      "cell_type": "code",
      "source": [
        "docs = load_nerus(NERUS)"
      ],
      "metadata": {
        "id": "nL_KcSXWs7bm"
      },
      "execution_count": 5,
      "outputs": []
    },
    {
      "cell_type": "code",
      "source": [
        "from tqdm import tqdm\n",
        "import numpy as np"
      ],
      "metadata": {
        "id": "EIXV_XWCsx1d"
      },
      "execution_count": 6,
      "outputs": []
    },
    {
      "cell_type": "code",
      "source": [
        "text = []\n",
        "for i , doc in enumerate(docs)  :\n",
        "    for sents in doc.sents :\n",
        "        sentence = []\n",
        "        for token in sents.tokens :\n",
        "            sentence.append( (token.text.lower() , token.pos ) )\n",
        "        text.append(sentence)\n",
        "    if i > 700 :\n",
        "        break"
      ],
      "metadata": {
        "id": "HLf2TF2WGKPs"
      },
      "execution_count": 7,
      "outputs": []
    },
    {
      "cell_type": "code",
      "source": [
        "len(text)"
      ],
      "metadata": {
        "colab": {
          "base_uri": "https://localhost:8080/"
        },
        "id": "nZM5n5-oHFu0",
        "outputId": "c5b31854-a602-4a1f-8f6f-90701c800bde"
      },
      "execution_count": 8,
      "outputs": [
        {
          "output_type": "execute_result",
          "data": {
            "text/plain": [
              "8167"
            ]
          },
          "metadata": {},
          "execution_count": 8
        }
      ]
    },
    {
      "cell_type": "code",
      "source": [
        "# from collections import defaultdict\n",
        "# def build_markov_model(sentences):\n",
        "#     markov_model = defaultdict(lambda: defaultdict(int))\n",
        "#     for sentence in tqdm(sentences):\n",
        "#         tokens = re.findall(r\"[\\w']+|[.,]\", sentence)\n",
        "#         for i in range(len(tokens) - 1):\n",
        "#             current_token = tokens[i]\n",
        "#             next_token = tokens[i + 1]\n",
        "#             markov_model[current_token][next_token] += 1\n",
        "#     for token, next_tokens in markov_model.items():\n",
        "#         total_count = sum(next_tokens.values())\n",
        "#         for next_token in next_tokens:\n",
        "#             markov_model[token][next_token] /= total_count\n",
        "\n",
        "#     return markov_model"
      ],
      "metadata": {
        "id": "s7kgV5KMt149"
      },
      "execution_count": 192,
      "outputs": []
    },
    {
      "cell_type": "code",
      "source": [
        "# markov_model = build_markov_model(sentences)"
      ],
      "metadata": {
        "id": "of9Yfg1TvKQ4"
      },
      "execution_count": 193,
      "outputs": []
    },
    {
      "cell_type": "code",
      "source": [
        "# def predict(token , markov_model=markov_model, greedy = True ) :\n",
        "#     if token == '<end>' :\n",
        "#         return None\n",
        "\n",
        "#     if token in  markov_model.keys() and token != '.' :\n",
        "#         sorted_tokens = sorted( markov_model[token].items() , key = lambda y : -y[1]  )\n",
        "#         if greedy :\n",
        "#             return sorted_tokens[0][0]\n",
        "#         else :\n",
        "#             probs = []\n",
        "#             keys = []\n",
        "#             for key , prob in sorted_tokens :\n",
        "#                 keys.append(key)\n",
        "#                 probs.append(prob)\n",
        "#             return np.random.choice(keys , p = probs )\n",
        "#     else :\n",
        "#         return '<end>'\n",
        "# print(predict('человек' , greedy = False))\n",
        "# print(predict('машина'))\n",
        "# print(predict('<end>') )\n",
        "# print(predict('.') )"
      ],
      "metadata": {
        "id": "HL9SCRUYuP6Z"
      },
      "execution_count": 194,
      "outputs": []
    },
    {
      "cell_type": "code",
      "source": [
        "from nltk.tag import hmm"
      ],
      "metadata": {
        "id": "5rvk34kFzg93"
      },
      "execution_count": 10,
      "outputs": []
    },
    {
      "cell_type": "code",
      "source": [
        "# from sklearn.model_selection import train_test_split\n",
        "\n",
        "# X_train, X_test = train_test_split(text, test_size=0.2)"
      ],
      "metadata": {
        "id": "OJhaeUCCusYp"
      },
      "execution_count": 196,
      "outputs": []
    },
    {
      "cell_type": "code",
      "source": [
        "vocab = sorted(list(set([word[0] for sentence in text for word in sentence])))\n",
        "len(vocab)"
      ],
      "metadata": {
        "colab": {
          "base_uri": "https://localhost:8080/"
        },
        "id": "zJ1g0oksz9_m",
        "outputId": "19675355-37cf-4e19-ea19-627fd92e6398"
      },
      "execution_count": 16,
      "outputs": [
        {
          "output_type": "execute_result",
          "data": {
            "text/plain": [
              "29069"
            ]
          },
          "metadata": {},
          "execution_count": 16
        }
      ]
    },
    {
      "cell_type": "code",
      "source": [
        "types = sorted(list(set([word[1] for sentence in text for word in sentence])))\n",
        "len(types)"
      ],
      "metadata": {
        "colab": {
          "base_uri": "https://localhost:8080/"
        },
        "id": "xU9B0ge_KAHP",
        "outputId": "efc36bac-eeca-43c9-e884-f5fe5a3d2ec9"
      },
      "execution_count": 17,
      "outputs": [
        {
          "output_type": "execute_result",
          "data": {
            "text/plain": [
              "17"
            ]
          },
          "metadata": {},
          "execution_count": 17
        }
      ]
    },
    {
      "cell_type": "code",
      "source": [
        "trainer = hmm.HiddenMarkovModelTrainer( states= types , symbols = vocab)"
      ],
      "metadata": {
        "id": "rmOgxuAI0KVy"
      },
      "execution_count": 35,
      "outputs": []
    },
    {
      "cell_type": "code",
      "source": [
        "train_text = text[:int(0.8*len(text))]\n",
        "test_text = text[int(0.8*len(text)):]"
      ],
      "metadata": {
        "id": "2sSzjSXSM2uP"
      },
      "execution_count": 36,
      "outputs": []
    },
    {
      "cell_type": "code",
      "source": [
        "tagger = trainer.train_supervised(train_text  )"
      ],
      "metadata": {
        "id": "NGS3GamMzn95"
      },
      "execution_count": 37,
      "outputs": []
    },
    {
      "cell_type": "code",
      "source": [
        "for t in tagger._transitions:\n",
        "    print(t, tagger._transitions[t].__dict__)"
      ],
      "metadata": {
        "colab": {
          "base_uri": "https://localhost:8080/"
        },
        "id": "uR8Ygif-DLtJ",
        "outputId": "05ec8fa5-52c0-4e6a-d5f1-5adc6c3e696f"
      },
      "execution_count": 38,
      "outputs": [
        {
          "output_type": "stream",
          "name": "stdout",
          "text": [
            "NOUN {'_freqdist': FreqDist({'PUNCT': 9988, 'NOUN': 5664, 'ADP': 4846, 'VERB': 3463, 'PROPN': 2772, 'ADJ': 2702, 'CCONJ': 1187, 'ADV': 504, 'NUM': 373, 'PART': 294, ...})}\n",
            "ADP {'_freqdist': FreqDist({'NOUN': 7078, 'ADJ': 2285, 'PRON': 1284, 'PROPN': 1169, 'DET': 725, 'NUM': 635, 'VERB': 168, 'PUNCT': 147, 'ADV': 50, 'X': 21, ...})}\n",
            "ADJ {'_freqdist': FreqDist({'NOUN': 8054, 'ADJ': 778, 'PUNCT': 649, 'VERB': 267, 'PROPN': 259, 'ADP': 231, 'CCONJ': 156, 'NUM': 52, 'AUX': 48, 'ADV': 26, ...})}\n",
            "PROPN {'_freqdist': FreqDist({'PUNCT': 3261, 'PROPN': 1819, 'VERB': 1352, 'ADP': 708, 'CCONJ': 366, 'NOUN': 259, 'ADJ': 218, 'ADV': 157, 'NUM': 83, 'PART': 71, ...})}\n",
            "VERB {'_freqdist': FreqDist({'NOUN': 3579, 'ADP': 3099, 'PUNCT': 2157, 'ADJ': 1378, 'VERB': 915, 'PROPN': 489, 'PRON': 458, 'NUM': 389, 'ADV': 385, 'DET': 317, ...})}\n",
            "PUNCT {'_freqdist': FreqDist({'PUNCT': 2371, 'VERB': 2303, 'NOUN': 1741, 'SCONJ': 1723, 'ADP': 1126, 'PROPN': 1095, 'ADJ': 982, 'PRON': 826, 'CCONJ': 763, 'ADV': 639, ...})}\n",
            "DET {'_freqdist': FreqDist({'NOUN': 1430, 'ADJ': 155, 'PART': 57, 'PUNCT': 53, 'VERB': 50, 'PRON': 14, 'PROPN': 14, 'CCONJ': 12, 'DET': 10, 'ADP': 10, ...})}\n",
            "ADV {'_freqdist': FreqDist({'VERB': 912, 'ADP': 363, 'PUNCT': 338, 'NOUN': 290, 'ADJ': 281, 'NUM': 176, 'PART': 161, 'PRON': 151, 'ADV': 123, 'SCONJ': 74, ...})}\n",
            "PRON {'_freqdist': FreqDist({'VERB': 1713, 'PUNCT': 576, 'NOUN': 358, 'ADP': 291, 'ADV': 236, 'PART': 225, 'ADJ': 215, 'PRON': 132, 'AUX': 115, 'PROPN': 34, ...})}\n",
            "CCONJ {'_freqdist': FreqDist({'NOUN': 714, 'VERB': 621, 'ADJ': 428, 'ADV': 246, 'PROPN': 192, 'ADP': 130, 'PRON': 95, 'PART': 93, 'PUNCT': 88, 'NUM': 66, ...})}\n",
            "SCONJ {'_freqdist': FreqDist({'NOUN': 504, 'VERB': 313, 'ADP': 299, 'PRON': 227, 'ADJ': 191, 'PROPN': 142, 'DET': 95, 'ADV': 77, 'PUNCT': 64, 'PART': 60, ...})}\n",
            "NUM {'_freqdist': FreqDist({'NOUN': 1578, 'ADP': 207, 'PUNCT': 195, 'ADJ': 133, 'VERB': 39, 'CCONJ': 23, 'PROPN': 16, 'X': 12, 'PRON': 10, 'NUM': 9, ...})}\n",
            "PART {'_freqdist': FreqDist({'VERB': 687, 'NOUN': 134, 'ADJ': 122, 'ADP': 111, 'ADV': 76, 'PART': 56, 'AUX': 47, 'NUM': 46, 'PRON': 42, 'PUNCT': 37, ...})}\n",
            "AUX {'_freqdist': FreqDist({'VERB': 546, 'ADJ': 67, 'ADV': 42, 'ADP': 33, 'NOUN': 31, 'PUNCT': 23, 'PART': 15, 'NUM': 8, 'DET': 8, 'PRON': 7, ...})}\n",
            "X {'_freqdist': FreqDist({'X': 459, 'PUNCT': 320, 'VERB': 45, 'PROPN': 30, 'NUM': 26, 'CCONJ': 17, 'ADP': 14, 'ADJ': 11, 'NOUN': 7, 'ADV': 5, ...})}\n",
            "SYM {'_freqdist': FreqDist({'NUM': 10, 'PROPN': 5, 'PUNCT': 4, 'SYM': 2, 'VERB': 1, 'ADP': 1})}\n",
            "INTJ {'_freqdist': FreqDist({'PUNCT': 7, 'NOUN': 1})}\n"
          ]
        }
      ]
    },
    {
      "cell_type": "markdown",
      "source": [
        "## На обучающей выборке : точность"
      ],
      "metadata": {
        "id": "HfOsIyVgL9he"
      }
    },
    {
      "cell_type": "code",
      "source": [
        "tagger.accuracy(train_text[:100])"
      ],
      "metadata": {
        "colab": {
          "base_uri": "https://localhost:8080/"
        },
        "id": "DzOwq6qwL654",
        "outputId": "b3090f8f-9e0d-4e8a-a023-993d66f8795b"
      },
      "execution_count": 39,
      "outputs": [
        {
          "output_type": "stream",
          "name": "stderr",
          "text": [
            "/usr/local/lib/python3.10/dist-packages/nltk/tag/hmm.py:334: RuntimeWarning: overflow encountered in cast\n",
            "  X[i, j] = self._transitions[si].logprob(self._states[j])\n",
            "/usr/local/lib/python3.10/dist-packages/nltk/tag/hmm.py:336: RuntimeWarning: overflow encountered in cast\n",
            "  O[i, k] = self._output_logprob(si, self._symbols[k])\n",
            "/usr/local/lib/python3.10/dist-packages/nltk/tag/hmm.py:332: RuntimeWarning: overflow encountered in cast\n",
            "  P[i] = self._priors.logprob(si)\n"
          ]
        },
        {
          "output_type": "execute_result",
          "data": {
            "text/plain": [
              "0.9819872167344567"
            ]
          },
          "metadata": {},
          "execution_count": 39
        }
      ]
    },
    {
      "cell_type": "markdown",
      "source": [
        "## На отложенной"
      ],
      "metadata": {
        "id": "KUTjcAImMAPN"
      }
    },
    {
      "cell_type": "code",
      "source": [
        "tagger.accuracy(test_text[:100])"
      ],
      "metadata": {
        "colab": {
          "base_uri": "https://localhost:8080/"
        },
        "id": "ifPf9FbW5Itm",
        "outputId": "65db9bf3-f638-4796-ddb2-4233a54751b2"
      },
      "execution_count": 40,
      "outputs": [
        {
          "output_type": "execute_result",
          "data": {
            "text/plain": [
              "0.3603280369041517"
            ]
          },
          "metadata": {},
          "execution_count": 40
        }
      ]
    },
    {
      "cell_type": "markdown",
      "source": [
        "## Crossentropy"
      ],
      "metadata": {
        "id": "b8HIFEbRMNfK"
      }
    },
    {
      "cell_type": "code",
      "source": [
        "test_words = list(map( lambda y : str(y[0]) , test_text[0] ) )\n",
        "test_tags_fold = list(map( lambda y : y[1] , test_text[0] ) )\n",
        "test_words , test_tags_fold"
      ],
      "metadata": {
        "colab": {
          "base_uri": "https://localhost:8080/"
        },
        "id": "JgPRgOsoOrvW",
        "outputId": "df530305-b2cf-4fe2-f2a3-86889b432fb6"
      },
      "execution_count": 69,
      "outputs": [
        {
          "output_type": "execute_result",
          "data": {
            "text/plain": [
              "(['она', 'была', 'прикреплена', 'к', 'колесной', 'паре', 'состава', '.'],\n",
              " ['PRON', 'AUX', 'VERB', 'ADP', 'ADJ', 'NOUN', 'NOUN', 'PUNCT'])"
            ]
          },
          "metadata": {},
          "execution_count": 69
        }
      ]
    },
    {
      "cell_type": "code",
      "source": [
        "tagger.entropy(test_words)"
      ],
      "metadata": {
        "colab": {
          "base_uri": "https://localhost:8080/"
        },
        "id": "Q_dcDYSMSVRz",
        "outputId": "47a65a7f-8ec6-4272-e102-e80121f62159"
      },
      "execution_count": 74,
      "outputs": [
        {
          "output_type": "execute_result",
          "data": {
            "text/plain": [
              "1.5143175603272796"
            ]
          },
          "metadata": {},
          "execution_count": 74
        }
      ]
    },
    {
      "cell_type": "markdown",
      "source": [
        "# Задача 4.1.  \n",
        "На основе представленной ниже языковой модели требуется:\n",
        "\n",
        "Выбрать наиболее вероятную последовательность слов, которая начинается со слова start и заканчивается словом end.\n",
        "Выбрать последовательность токенов, которая начинается со слова start и заканчивается словом end и имеет максимальный score = $\\frac{1}{l}\\sum_{i=1}^{l} \\log p(w_i|w_{i-1})$, где l задает длину полученной последовательности.\n",
        "\n",
        "p(обучение|start)=0.14\n",
        "\n",
        "p(end|машинный)=0.5\n",
        "\n",
        "p(end|обучение)=0.5\n",
        "\n",
        "p(не|обучение)=0.5\n",
        "\n",
        "p(без|возможно)=0.5\n",
        "\n",
        "p(без|start)=0.14\n",
        "\n",
        "p(не|start)=0.14\n",
        "\n",
        "p(end|без)=0.5\n",
        "\n",
        "p(end|не)=0.5\n",
        "\n",
        "p(обучение|машинный)=0.5\n",
        "\n",
        "p(end|статистика)=1.0\n",
        "\n",
        "p(возможно|не)=0.5\n",
        "\n",
        "p(возможно|start)=0.14\n",
        "\n",
        "p(машинный|start)=0.29\n",
        "\n",
        "p(статистика|start)=0.14\n",
        "\n",
        "p(статистика|без)=0.5\n",
        "\n",
        "p(end|возможно)=0.5\n"
      ],
      "metadata": {
        "id": "B2lLkUWBh6SH"
      }
    },
    {
      "cell_type": "markdown",
      "source": [
        "Токены после start :\n",
        "1. обучение 0.14\n",
        "2. без 0.14\n",
        "3. не 0.14\n",
        "4. Возможно 0.14\n",
        "5. машинный 0.29\n",
        "6. статистика 0.14\n",
        "\n",
        "Токены после \"машинный\" :\n",
        "1. end 0.5\n",
        "2. обучение 0.5\n",
        "\n",
        "Токены после \"обучение\":\n",
        "1. end 0.5\n",
        "2. не 0.5\n",
        "\n",
        "Токены после \"не\" :\n",
        "1. Возможно 0.5\n",
        "2. end 0.5\n",
        "\n",
        "Токены после \"возможно\" :\n",
        "1. без 0.5\n",
        "2. end 0.5\n",
        "\n",
        "Токены после \"без\" :\n",
        "1. статистика 0.5\n",
        "2. end 0.5\n",
        "\n",
        "Токены после \"статистика\" :\n",
        "1. end 1.0\n",
        "\n",
        "\n",
        "# 1 пункт\n",
        "Вероятность - это произведение вероятностей переходов, а мы ищем самый правдоподобный. Максимизируем логарифм правдоподобия - минимизируем сумму модулей логарифмов (так как логарифм от числа < 1 отрицательный). пусть модуль логарифма вероятности перехода - это длина ребра. Значит задача поиска кратчайшего пути. Итак впервую очередь заметим, что до \"машинное\" - саммый короткий путь , далее из-за того, что дальше идут одинаковые длины путей |log 0.5| между любыми вершинами, а у нас есть возможность из \"машинное\" прийти сразу в end,то это кратчайший путь из start в end.\n",
        "\n",
        "# 2 пункт\n",
        "Заметим , что все переходы без участия старта и конца имеют вероятности 1/2. Но так как вероятности начального перехода в любой токен меньше 0.5, то увеличение длины последовательности всегда будет увеличивать score, так как log 0.5 будет тянуть усредненный логарифм правдоподобия вверх. Следоавтельно нам нужно найти самую длинную последовательность. Таковой является : Машинное обучение не возможно без статистики.\n",
        "\n"
      ],
      "metadata": {
        "id": "Eqe2K5OFbCsG"
      }
    },
    {
      "cell_type": "code",
      "source": [],
      "metadata": {
        "id": "-KRob1eWh68v"
      },
      "execution_count": null,
      "outputs": []
    }
  ]
}